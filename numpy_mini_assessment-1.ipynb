{
 "cells": [
  {
   "cell_type": "markdown",
   "metadata": {},
   "source": [
    "# Week 2 - Mini Assessment"
   ]
  },
  {
   "cell_type": "markdown",
   "metadata": {},
   "source": [
    "Welcome to you mini assessment for week two. For this assessment, you will be completing 15 exercises where for each new exercise, the difficulty level will only increase. You've got this! 😎\n",
    "\n",
    "At the end of an hour, we will walk over each question together. Feel free to post it on GitHub once you finish, under your respective folder for everything related to week 2."
   ]
  },
  {
   "cell_type": "markdown",
   "metadata": {},
   "source": [
    "1. import the numpy package and check its version."
   ]
  },
  {
   "cell_type": "code",
   "execution_count": 3,
   "metadata": {},
   "outputs": [],
   "source": [
    "import numpy as np"
   ]
  },
  {
   "cell_type": "code",
   "execution_count": 3,
   "metadata": {},
   "outputs": [
    {
     "data": {
      "text/plain": [
       "'1.18.1'"
      ]
     },
     "execution_count": 3,
     "metadata": {},
     "output_type": "execute_result"
    }
   ],
   "source": [
    "np.__version__"
   ]
  },
  {
   "cell_type": "markdown",
   "metadata": {},
   "source": [
    "2. Create an numpy range of values from 0 to 49 and name it `mynums`."
   ]
  },
  {
   "cell_type": "code",
   "execution_count": 5,
   "metadata": {},
   "outputs": [],
   "source": [
    "mynums = np.arange(0, 50, 1)"
   ]
  },
  {
   "cell_type": "code",
   "execution_count": 6,
   "metadata": {},
   "outputs": [
    {
     "name": "stdout",
     "output_type": "stream",
     "text": [
      "[ 0  1  2  3  4  5  6  7  8  9 10 11 12 13 14 15 16 17 18 19 20 21 22 23\n",
      " 24 25 26 27 28 29 30 31 32 33 34 35 36 37 38 39 40 41 42 43 44 45 46 47\n",
      " 48 49]\n"
     ]
    }
   ],
   "source": [
    "print(mynums)"
   ]
  },
  {
   "cell_type": "markdown",
   "metadata": {},
   "source": [
    "3. Reshape the array you created in step 2 into a matrix with the shape below and assign a copy of it to a variable called `my_matrix`."
   ]
  },
  {
   "cell_type": "code",
   "execution_count": 12,
   "metadata": {},
   "outputs": [
    {
     "data": {
      "text/plain": [
       "array([[ 0,  1,  2,  3,  4,  5,  6,  7,  8,  9],\n",
       "       [10, 11, 12, 13, 14, 15, 16, 17, 18, 19],\n",
       "       [20, 21, 22, 23, 24, 25, 26, 27, 28, 29],\n",
       "       [30, 31, 32, 33, 34, 35, 36, 37, 38, 39],\n",
       "       [40, 41, 42, 43, 44, 45, 46, 47, 48, 49]])"
      ]
     },
     "execution_count": 12,
     "metadata": {},
     "output_type": "execute_result"
    }
   ],
   "source": [
    "mynums.reshape(5,10)"
   ]
  },
  {
   "cell_type": "code",
   "execution_count": null,
   "metadata": {},
   "outputs": [],
   "source": []
  },
  {
   "cell_type": "markdown",
   "metadata": {},
   "source": [
    "4. Create a linearly-spaced array of size 100 between the numbers 20 to 100, assign it to the variable, `num_increases` and print it."
   ]
  },
  {
   "cell_type": "code",
   "execution_count": 21,
   "metadata": {},
   "outputs": [],
   "source": [
    "num_increases = np.linspace(20, 100, 100)"
   ]
  },
  {
   "cell_type": "code",
   "execution_count": 23,
   "metadata": {},
   "outputs": [
    {
     "name": "stdout",
     "output_type": "stream",
     "text": [
      "[ 20.          20.80808081  21.61616162  22.42424242  23.23232323\n",
      "  24.04040404  24.84848485  25.65656566  26.46464646  27.27272727\n",
      "  28.08080808  28.88888889  29.6969697   30.50505051  31.31313131\n",
      "  32.12121212  32.92929293  33.73737374  34.54545455  35.35353535\n",
      "  36.16161616  36.96969697  37.77777778  38.58585859  39.39393939\n",
      "  40.2020202   41.01010101  41.81818182  42.62626263  43.43434343\n",
      "  44.24242424  45.05050505  45.85858586  46.66666667  47.47474747\n",
      "  48.28282828  49.09090909  49.8989899   50.70707071  51.51515152\n",
      "  52.32323232  53.13131313  53.93939394  54.74747475  55.55555556\n",
      "  56.36363636  57.17171717  57.97979798  58.78787879  59.5959596\n",
      "  60.4040404   61.21212121  62.02020202  62.82828283  63.63636364\n",
      "  64.44444444  65.25252525  66.06060606  66.86868687  67.67676768\n",
      "  68.48484848  69.29292929  70.1010101   70.90909091  71.71717172\n",
      "  72.52525253  73.33333333  74.14141414  74.94949495  75.75757576\n",
      "  76.56565657  77.37373737  78.18181818  78.98989899  79.7979798\n",
      "  80.60606061  81.41414141  82.22222222  83.03030303  83.83838384\n",
      "  84.64646465  85.45454545  86.26262626  87.07070707  87.87878788\n",
      "  88.68686869  89.49494949  90.3030303   91.11111111  91.91919192\n",
      "  92.72727273  93.53535354  94.34343434  95.15151515  95.95959596\n",
      "  96.76767677  97.57575758  98.38383838  99.19191919 100.        ]\n"
     ]
    }
   ],
   "source": [
    "print(num_increases)"
   ]
  },
  {
   "cell_type": "code",
   "execution_count": null,
   "metadata": {},
   "outputs": [],
   "source": [
    "??num_increases = np.linespace"
   ]
  },
  {
   "cell_type": "code",
   "execution_count": null,
   "metadata": {},
   "outputs": [],
   "source": [
    "num_increases = np.linespace"
   ]
  },
  {
   "cell_type": "code",
   "execution_count": null,
   "metadata": {
    "scrolled": true
   },
   "outputs": [],
   "source": []
  },
  {
   "cell_type": "markdown",
   "metadata": {},
   "source": [
    "5. Create an numpy array with 20 zeros, assign it to the variable `zeroes`."
   ]
  },
  {
   "cell_type": "code",
   "execution_count": 25,
   "metadata": {},
   "outputs": [],
   "source": [
    "zeroes = np.zeros(20)"
   ]
  },
  {
   "cell_type": "code",
   "execution_count": null,
   "metadata": {},
   "outputs": [],
   "source": []
  },
  {
   "cell_type": "markdown",
   "metadata": {},
   "source": [
    "6. Create a two dimensional array of size 7 by 8 filled with 1s and do the following:\n",
    "- mulptiply the first row by 2\n",
    "- add 3 and raise to the power of two the odd columns starting from the beginning\n",
    "- subtract 10 and multiply by 15 the elements in the even rows and odd columns"
   ]
  },
  {
   "cell_type": "code",
   "execution_count": 77,
   "metadata": {},
   "outputs": [
    {
     "name": "stdout",
     "output_type": "stream",
     "text": [
      "[[ 1  2  3  4  5  6  7  8]\n",
      " [ 9 10 11 12 13 14 15 16]\n",
      " [17 18 19 20 21 22 23 24]\n",
      " [25 26 27 28 29 30 31 32]\n",
      " [33 34 35 36 37 38 39 40]\n",
      " [41 42 43 44 45 46 47 48]\n",
      " [49 50 51 52 53 54 55 56]]\n",
      "[ 2  4  6  8 10 12 14 16]\n",
      "[[ 6  4 10  8]\n",
      " [14 12 18 16]\n",
      " [22 20 26 24]\n",
      " [30 28 34 32]\n",
      " [38 36 42 40]\n",
      " [46 44 50 48]\n",
      " [54 52 58 56]]\n",
      "[[-15  15  45  75]\n",
      " [225 255 285 315]\n",
      " [465 495 525 555]]\n"
     ]
    }
   ],
   "source": [
    "arrr1 = np.arange(1, 57, 1).reshape(7, 8)\n",
    "print(arrr1)\n",
    "print(arrr1[0,:] *2)\n",
    "print(arrr1[:,0::2] +3^2 )\n",
    "print((arrr1[1::2,::2] -10)*15)"
   ]
  },
  {
   "cell_type": "code",
   "execution_count": 40,
   "metadata": {},
   "outputs": [
    {
     "name": "stdout",
     "output_type": "stream",
     "text": [
      "[[1. 1. 1. 1. 1. 1. 1. 1.]\n",
      " [1. 1. 1. 1. 1. 1. 1. 1.]\n",
      " [1. 1. 1. 1. 1. 1. 1. 1.]\n",
      " [1. 1. 1. 1. 1. 1. 1. 1.]\n",
      " [1. 1. 1. 1. 1. 1. 1. 1.]\n",
      " [1. 1. 1. 1. 1. 1. 1. 1.]\n",
      " [1. 1. 1. 1. 1. 1. 1. 1.]]\n",
      "[[4. 4. 4. 4. 4. 4. 4. 4.]\n",
      " [4. 4. 4. 4. 4. 4. 4. 4.]\n",
      " [4. 4. 4. 4. 4. 4. 4. 4.]\n",
      " [4. 4. 4. 4. 4. 4. 4. 4.]\n",
      " [4. 4. 4. 4. 4. 4. 4. 4.]\n",
      " [4. 4. 4. 4. 4. 4. 4. 4.]\n",
      " [4. 4. 4. 4. 4. 4. 4. 4.]]\n"
     ]
    }
   ],
   "source": [
    "print(arrr1)\n",
    "print(arrr2)"
   ]
  },
  {
   "cell_type": "code",
   "execution_count": null,
   "metadata": {},
   "outputs": [],
   "source": []
  },
  {
   "cell_type": "code",
   "execution_count": null,
   "metadata": {},
   "outputs": [],
   "source": []
  },
  {
   "cell_type": "code",
   "execution_count": null,
   "metadata": {},
   "outputs": [],
   "source": []
  },
  {
   "cell_type": "markdown",
   "metadata": {},
   "source": [
    "7. Create a numpy array starting with 20 and ending with 40 with 10 equally spaced values."
   ]
  },
  {
   "cell_type": "code",
   "execution_count": 84,
   "metadata": {},
   "outputs": [],
   "source": [
    "array3 = np.arange(20, 40, 2)"
   ]
  },
  {
   "cell_type": "code",
   "execution_count": 85,
   "metadata": {},
   "outputs": [
    {
     "data": {
      "text/plain": [
       "array([20, 22, 24, 26, 28, 30, 32, 34, 36, 38])"
      ]
     },
     "execution_count": 85,
     "metadata": {},
     "output_type": "execute_result"
    }
   ],
   "source": [
    "array3"
   ]
  },
  {
   "cell_type": "markdown",
   "metadata": {},
   "source": [
    "8. Create a 9 by 9 matrix with random integers from 100 to 500 and use the dtype \"int32\"."
   ]
  },
  {
   "cell_type": "code",
   "execution_count": 95,
   "metadata": {},
   "outputs": [],
   "source": [
    "matrix1 = np.random.randint(100, 400, (9, 9) ,dtype=\"int32\" )"
   ]
  },
  {
   "cell_type": "code",
   "execution_count": 96,
   "metadata": {},
   "outputs": [
    {
     "data": {
      "text/plain": [
       "array([[328, 197, 129, 115, 246, 155, 316, 156, 150],\n",
       "       [287, 104, 122, 119, 125, 183, 319, 317, 233],\n",
       "       [192, 148, 200, 129, 350, 266, 233, 103, 162],\n",
       "       [322, 337, 348, 362, 205, 355, 118, 332, 182],\n",
       "       [239, 374, 218, 116, 319, 149, 181, 342, 321],\n",
       "       [363, 383, 341, 125, 112, 198, 372, 293, 126],\n",
       "       [135, 217, 149, 163, 126, 275, 331, 393, 134],\n",
       "       [212, 212, 384, 173, 257, 149, 344, 194, 172],\n",
       "       [180, 265, 106, 163, 350, 323, 190, 299, 253]])"
      ]
     },
     "execution_count": 96,
     "metadata": {},
     "output_type": "execute_result"
    }
   ],
   "source": [
    "matrix1"
   ]
  },
  {
   "cell_type": "markdown",
   "metadata": {},
   "source": [
    "9. Create an empty array of 20 elements with shape 2 by 10, dtype 'float32' and add a different number to each row."
   ]
  },
  {
   "cell_type": "code",
   "execution_count": 98,
   "metadata": {},
   "outputs": [],
   "source": [
    "empty1 = np.empty((2,10), dtype=\"float32\")"
   ]
  },
  {
   "cell_type": "code",
   "execution_count": 99,
   "metadata": {},
   "outputs": [
    {
     "data": {
      "text/plain": [
       "array([[-2.0175563e+35,  6.6841937e-43,  5.0446745e-44,  0.0000000e+00,\n",
       "         0.0000000e+00,  0.0000000e+00,  0.0000000e+00,  0.0000000e+00,\n",
       "         0.0000000e+00,  9.2754804e-39],\n",
       "       [ 1.3369963e+22,  1.1039986e-05,  2.0802474e+23,  6.7121260e-07,\n",
       "         1.9970032e+20,  1.0196595e-11,  1.0780555e-08,  2.1628449e+23,\n",
       "         4.2933799e-08,  1.6815582e-43]], dtype=float32)"
      ]
     },
     "execution_count": 99,
     "metadata": {},
     "output_type": "execute_result"
    }
   ],
   "source": [
    "empty1\n"
   ]
  },
  {
   "cell_type": "markdown",
   "metadata": {},
   "source": [
    "10. Create an array with 15 random numbers between 100 and 200 and print the maximum value in the array."
   ]
  },
  {
   "cell_type": "code",
   "execution_count": 4,
   "metadata": {},
   "outputs": [],
   "source": [
    "array5 = np.random.randint(100, 200, (15))"
   ]
  },
  {
   "cell_type": "code",
   "execution_count": 5,
   "metadata": {},
   "outputs": [
    {
     "data": {
      "text/plain": [
       "array([121, 182, 168, 134, 112, 182, 125, 197, 109, 118, 176, 170, 187,\n",
       "       108, 147])"
      ]
     },
     "execution_count": 5,
     "metadata": {},
     "output_type": "execute_result"
    }
   ],
   "source": [
    "array5"
   ]
  },
  {
   "cell_type": "markdown",
   "metadata": {},
   "source": [
    "11. Create an array with the following numbers [40, 41, 26, 14, 15, 47, 43, 33, 44, 22], select the 5th to 10th elements, assign each to a new variable, change their value, and then print all 3 (the first array and your next two variables."
   ]
  },
  {
   "cell_type": "code",
   "execution_count": 6,
   "metadata": {},
   "outputs": [],
   "source": [
    "array6 = [40, 41, 26, 14, 15, 47, 43, 33, 44, 22]"
   ]
  },
  {
   "cell_type": "code",
   "execution_count": 25,
   "metadata": {},
   "outputs": [
    {
     "name": "stdout",
     "output_type": "stream",
     "text": [
      "[40, 41, 26, 14, 15, 47, 43, 33, 44, 22]\n",
      "2021 47 43\n"
     ]
    }
   ],
   "source": [
    "loop6 = array6[4:]\n",
    "loop6\n",
    "\n",
    "var1, var2, var3 = [loop6[i] for i in (0,1,2)] \n",
    "\n",
    "var1 = var2 * var3\n",
    "print(array6)\n",
    "print(var1, var2, var3)\n"
   ]
  },
  {
   "cell_type": "markdown",
   "metadata": {},
   "source": [
    "12. Create an array of 360 random numbers from -10 to 50 (to resemble the weather) and find the min, max, 25th percentile, 75 percentile, and the median."
   ]
  },
  {
   "cell_type": "code",
   "execution_count": 26,
   "metadata": {},
   "outputs": [],
   "source": [
    "array360 = np.random.randint(-10, 50, (360))"
   ]
  },
  {
   "cell_type": "code",
   "execution_count": 27,
   "metadata": {},
   "outputs": [
    {
     "name": "stdout",
     "output_type": "stream",
     "text": [
      "Minimum Value: -10\n",
      "25th percentile: 4.0\n",
      "Median: 18.0\n",
      "Average: 19.180555555555557\n",
      "75th percentile: 35.0\n",
      "Maximum Value: 49\n"
     ]
    }
   ],
   "source": [
    "print(f\"Minimum Value: {np.min(array360)}\")\n",
    "print(f\"25th percentile: {np.percentile(array360, 25)}\")\n",
    "print(f\"Median: {np.median(array360)}\")\n",
    "print(f\"Average: {np.mean(array360)}\")\n",
    "print(f\"75th percentile: {np.percentile(array360, 75)}\")\n",
    "print(f\"Maximum Value: {np.max(array360)}\")"
   ]
  },
  {
   "cell_type": "markdown",
   "metadata": {},
   "source": [
    "13. Reshape the array you created in step 12 into a matrix of 300 by 12 ad get the same values but only for the months this time."
   ]
  },
  {
   "cell_type": "code",
   "execution_count": 33,
   "metadata": {},
   "outputs": [],
   "source": [
    "mat360 = array360.reshape(30,12)"
   ]
  },
  {
   "cell_type": "code",
   "execution_count": 35,
   "metadata": {},
   "outputs": [
    {
     "data": {
      "text/plain": [
       "array([[ 41,  49,  -3,  43,  43,  -7,  -4,  20,  36,  36,  -9,  44],\n",
       "       [ -5, -10,  40,  23,  -3,  37, -10,   7,  28,  25,  14,  -1],\n",
       "       [ -6, -10,  28,  31,   9,   0,  30,  17,   3,  49,  27,   7],\n",
       "       [  3,  15,  36,  20,  13,  -3,  23,  28,  18,  19,   3,   2],\n",
       "       [ -8,  39,  43,  46,  46,  17,  33,  41,  35,  34,  11,  11],\n",
       "       [ 41,   5,  -4,   8,  -6,  47,  34,   2,   7,  45,  -4,  -7],\n",
       "       [ 24,  16,  36,  28,  -4,  38,  34,  13,  16,  34,  31,  10],\n",
       "       [ -9,  25,  12,  16,  40,   6,   3,  12,   3,   2,  36,  21],\n",
       "       [  0,   4,  -4,  -6,  46,  37,  43,   9,  10,  37,  31,  28],\n",
       "       [ 44,  17,  11,   6,   9,  26, -10,  -9,   2,  -3,  40,  -4],\n",
       "       [  6,  -8,  28,  39,   0,  48,  10,  47,  41,  38,  40,   5],\n",
       "       [ 17,  -2,   8,  32,  27,  26,  15,  11,  16,   1,  -6,  34],\n",
       "       [  7,  -1,  41,   4,  15,  29,  -6,  -4,  21,  31,   6,  18],\n",
       "       [ 18,  -5,   5,  -3,  38,  22,  44,   0,  17,  41,  -8,  14],\n",
       "       [ 25,  -4,  31,  43, -10,   5,  39,  44,  35,  -9,   1,   9],\n",
       "       [ 23,  32,  38,  43,  -6,  41,  -5,  -7,  45,  33,   0,  24],\n",
       "       [ 23,  37,   7,   7, -10,  16,  -3,  46,  48,  47,  34,  30],\n",
       "       [ 17,  40,  22,  38,  34,  24,  -4,  26,  47,  40,  13,  39],\n",
       "       [ 11,  18,  30,  16,   1,   9,  28,  26,  32,  -6, -10,  17],\n",
       "       [ 14,  34,  10,  44,  20,  17,  15,   0,   0,  48,  29,  35],\n",
       "       [ 20,  16,  37,  33,  39,   3,  22,   5,  24,  -2,  -6,  12],\n",
       "       [ 21,  -6,  30, -10, -10,  14, -10,  29,  -4,  11,  32,  16],\n",
       "       [ 49,  47,  -6,  -6,  25,  39,  38,  12,  -4,  34,  46,  30],\n",
       "       [ 28,  -3,   6,   7,  -3,  24,  39,  35,  14,  48,  22,   9],\n",
       "       [  5,   4,   7,  46,  40,  33,  -7,  14,  14,  44,  44,  49],\n",
       "       [ 38,  -5,   2,   3, -10,  47,  49,  45,  42,  49,   5,  18],\n",
       "       [ 22,   3,  14,  49,  38,  29,  15,  20,   2,  35,  22,  20],\n",
       "       [ 15,   7,  25,  17,  23,  35,   2,  16,   4,  37,  17,   1],\n",
       "       [ 22,   4,  11,  33,  44,  49,  26,  48,  -5,  23,  23,  48],\n",
       "       [ 23,  33,  39,  40,   1,   9, -10,  15,  36,  22,  11,   8]])"
      ]
     },
     "execution_count": 35,
     "metadata": {},
     "output_type": "execute_result"
    }
   ],
   "source": []
  },
  {
   "cell_type": "markdown",
   "metadata": {},
   "source": [
    "14. Create a mask for your data, and filter out and print:\n",
    "- average temperature of the days where the temperature was below 10\n",
    "- average temperature of the days where the temperature was greater than 30"
   ]
  },
  {
   "cell_type": "code",
   "execution_count": 45,
   "metadata": {},
   "outputs": [
    {
     "name": "stdout",
     "output_type": "stream",
     "text": [
      "-0.76\n"
     ]
    }
   ],
   "source": [
    "new_mask10 = (mat360 < 10)\n",
    "avg10 = np.mean(mat360[new_mask10])\n",
    "print(avg10)"
   ]
  },
  {
   "cell_type": "code",
   "execution_count": 46,
   "metadata": {},
   "outputs": [
    {
     "name": "stdout",
     "output_type": "stream",
     "text": [
      "40.02564102564103\n"
     ]
    }
   ],
   "source": [
    "new_mask30 = (mat360 > 30)\n",
    "avg30 = np.mean(mat360[new_mask30])\n",
    "print(avg30)"
   ]
  },
  {
   "cell_type": "markdown",
   "metadata": {},
   "source": [
    "15. Create a full 10 by 10 matrix with a number of your choosing and assign it to a variable. After printing that variables, unravel the matrix and assign the array to a new number."
   ]
  },
  {
   "cell_type": "code",
   "execution_count": null,
   "metadata": {},
   "outputs": [],
   "source": []
  },
  {
   "cell_type": "code",
   "execution_count": null,
   "metadata": {},
   "outputs": [],
   "source": []
  }
 ],
 "metadata": {
  "kernelspec": {
   "display_name": "Python 3",
   "language": "python",
   "name": "python3"
  },
  "language_info": {
   "codemirror_mode": {
    "name": "ipython",
    "version": 3
   },
   "file_extension": ".py",
   "mimetype": "text/x-python",
   "name": "python",
   "nbconvert_exporter": "python",
   "pygments_lexer": "ipython3",
   "version": "3.7.6"
  }
 },
 "nbformat": 4,
 "nbformat_minor": 4
}
