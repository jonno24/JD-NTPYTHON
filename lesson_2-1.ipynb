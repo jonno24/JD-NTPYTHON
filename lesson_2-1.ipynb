{
 "cells": [
  {
   "cell_type": "markdown",
   "metadata": {},
   "source": [
    "# Lesson 2 - Intermediate Python for Data Analytics"
   ]
  },
  {
   "cell_type": "markdown",
   "metadata": {},
   "source": [
    "![da](https://miro.medium.com/max/800/0*o4HM8Tk9PHJUyuei.jpg)"
   ]
  },
  {
   "cell_type": "markdown",
   "metadata": {},
   "source": [
    "# Welcome"
   ]
  },
  {
   "cell_type": "markdown",
   "metadata": {},
   "source": [
    "I. Recap of lesson 1  \n",
    "II. Learning Outcomes  \n",
    "\n",
    "\n",
    "__Outline for the session:__\n",
    "\n",
    "1. List, Arrays, and Matrices  \n",
    "2. Intro to Numpy  \n",
    "3. Computations with NumPy\n",
    "4. More on control flow\n",
    "    1. Conditional statements\n",
    "    2. Functions\n",
    "    3. Loops  \n",
    "    4. List Comprehensions\n",
    "5. Summary\n",
    "6. References\n",
    "7. Feedback"
   ]
  },
  {
   "cell_type": "markdown",
   "metadata": {},
   "source": [
    "# I. Recap of Lesson 1"
   ]
  },
  {
   "cell_type": "markdown",
   "metadata": {},
   "source": [
    "Let's begin by summarising what we learned in lesson 1.\n",
    "\n",
    "1. Data types help us have a clear view of the information we are dealing with. They can be `int`, `string`, `float`, or `booleans`.\n",
    "2. Data structures allow us to hold information in different formats and in different ways. The data structures we have at our disposal are `dictionaries`, `tuples`, `lists`, and `sets`.\n",
    "    - Dictionaries are key-value pair data structures that can hold multiple bits of information for us and does not follow the same convension or strictness of other data types/structures and variables. Dictionaries are also mutable (a.k.a. the values they hold for us can be changed).\n",
    "    - Lists are the most versatile data structure in Python, they can hold all sorts of data types --and strucures-- and are also mutable.\n",
    "    - Tuples are lists cousins, but that they don't like change and are immutable.\n",
    "    - Sets are like tuples, except that sets don't like to hold two of the same data twice (i.e. they don't like to have duplicates).\n",
    "3. Variables are buckets that hold specific objects for us. They can only have letters, numbers, and underscores for their names. They cannot begin with a number, and they have to be followed by an equal (`=`) sign that represents assignment.\n",
    "4. There are several ways for printing in Python, and we will use all of these throughout the course.\n",
    "    - `print(f\"Something {cool}\")`\n",
    "    - `print(\"Something {}\".format(\"cool\"))`\n",
    "    - `print(\"This is cool too!\")`\n",
    "    - `print(\"This is even %s!\" % \"cooler\")`\n",
    "5. Math symbols you should always remember.\n",
    "\n",
    "| Operator | What this does! |\n",
    "|------|---------------------|\n",
    "|  \\+  |  Addition           |\n",
    "|  \\-  |  Subtraction        |\n",
    "|  \\*  |  Multiplication     |\n",
    "|  \\** |  Exponentiation     |\n",
    "|  \\/  |  Division           |\n",
    "|   %  |  Modulo or remainder|\n",
    "|  //  |  Floor division     |  \n",
    "\n",
    "6. Importing packages conventions.  \n",
    "\n",
    "```python \n",
    "\n",
    "   import package  #import an entire package and access its element with a .some_package()\n",
    "   \n",
    "   import package as pk # give your package a nickname\n",
    "\n",
    "   from package import a_function # import a specific instance of that package you want/need\n",
    "```  \n",
    "\n",
    "7. Installing packages. Remember to use a `!` before a shell command when installing a package from a notebook.  \n",
    "\n",
    "```shell  \n",
    "\n",
    "   pip install package # Python's own package manager\n",
    "   conda install -c anaconda statsmodels # Anaconda's package manager\n",
    "```  \n",
    "\n",
    "8. Loops help us do tasks repeatedly. The `a_var` below can be any word or letter we'd like.\n",
    "\n",
    "```python\n",
    "    for a_var in a_list:\n",
    "        \"\"\"\n",
    "        Something to do all a_var's\n",
    "        inside a_list    \n",
    "        \"\"\"\n",
    "        print(a_var)\n",
    "```  \n",
    "\n",
    "9. `if-else` statements allow us to do operations based on logical statements that evaluate to True or False.  \n",
    "\n",
    "```python\n",
    "\n",
    "    if 2 + 2 == 4:\n",
    "        print(\"Yay, I knew it :)\")\n",
    "    else:\n",
    "        print(\"Oopss, let me revisit this one first\")\n",
    "```  \n",
    "\n",
    "10. Functions help us save time by allowing us to package simple-to-complex operations into one place. They follow the DRY convention, which stands for \"Don't Repeat Yourself.\"\n",
    "\n",
    "```python\n",
    "    def do_something_cool(name, age): # here you define your function and the inputs it should take\n",
    "        print(f\"My name is {name}\") # here\n",
    "        new_age = age + 1 # and here\n",
    "        print(f\"and next year I will be {new_age} years old!\") # and here, you do something with your inputs\n",
    "        \n",
    "    do_something_cool(name=\"Natasha\", age=35) # now test your function with some data\n",
    "```"
   ]
  },
  {
   "cell_type": "markdown",
   "metadata": {},
   "source": [
    "# II. Learning Outcomes"
   ]
  },
  {
   "cell_type": "markdown",
   "metadata": {},
   "source": [
    "By the end of this lesson you will have:\n",
    "\n",
    "1. Learned about how to do computations with arrays and matrices\n",
    "2. Learned the basics of NumPy\n",
    "3. Solidified your knowledge of loops, if-else statements, and functions\n",
    "4. Learned the basics of how to load data into Python\n",
    "5. A working knowledge of why we store data using different formats and when to use which"
   ]
  },
  {
   "cell_type": "markdown",
   "metadata": {},
   "source": [
    "# 1. Lists, Arrays, and Matrices"
   ]
  },
  {
   "cell_type": "markdown",
   "metadata": {},
   "source": [
    "`Arrays` in computer science and data analytics are collections (or `lists`) of elements that have an indext attached to them. Think of any of the spreadsheet tools you have used in the past, most of them probably had rows and columns (which are each arrays), and the combination of both, a cell or element, came with a row number (the indect), and a column letter (the name of the array). In Python, lists are our first representation of arrays and nested lists are our first representation of a `matrix` (e.g. the entire spreasheet).\n",
    "\n",
    "Let's dive a bit deeper into all of these."
   ]
  },
  {
   "cell_type": "markdown",
   "metadata": {},
   "source": [
    "# 1.1 Lists and Arrays"
   ]
  },
  {
   "cell_type": "markdown",
   "metadata": {},
   "source": [
    "In the previous lesson, we introduced lists as a highly useful data structure that allows us to have multiple data types and other data structures, in one place. This versitile functionality allow us to depend on lists for many simple and complex tasks, such as representing the rows and the columns of a spreadsheet.\n",
    "\n",
    "You can think of lists as either a row (a one dimensional array), or a column (another one dimensional array), or a combination of both (a two dimensional array). Just like a spreadsheet can hold text, numbers, and functions in a single cell, so can lists in Python but to an even larger extent.\n",
    "\n",
    "Remember, lists can be created with two square brackets `[]` or with the function `list()` (brackets is easier and faster), its elements have to be separated by commas, and you can always verify that the data type is correct by wrapping the `type()` function around your list.\n",
    "\n",
    "Let's look at some examples."
   ]
  },
  {
   "cell_type": "code",
   "execution_count": null,
   "metadata": {
    "execution": {
     "iopub.execute_input": "2020-04-23T14:59:54.477Z",
     "iopub.status.busy": "2020-04-23T14:59:54.461Z",
     "iopub.status.idle": "2020-04-23T14:59:54.507Z",
     "shell.execute_reply": "2020-04-23T14:59:54.407Z"
    }
   },
   "outputs": [],
   "source": [
    "companies = ['Amazon', 'Facebook', 'Google', 'Tesla', 'Apple', 'General Motors']\n",
    "year_founded = [1996, 1998, 2004, 2003, 1976, 1908]\n",
    "print(companies)\n",
    "print(type(year_founded))"
   ]
  },
  {
   "cell_type": "markdown",
   "metadata": {},
   "source": [
    "Now that we have two lists to work with, let's go over how to access the items in these arrays. Accessing items in lists or arrays is also called slicing. Think of this as slicing a cake, our intentions might be to eat a whole cake every time we see one (I definitely do), but most-often than not, one piece is all we need to enjoy the cake so the rest can be safely store in a new plate or container. For example:\n",
    "\n",
    "```python\n",
    "# Imagine we have a chocolate cake\n",
    "cake_slices = [1, 1, 1, 1, 1, 1, 1, 1] # with 8 slices\n",
    "slices_left = cake_slices[:6] # and we ate two in a sit\n",
    "print(sum(slices_left))\n",
    "# 6\n",
    "```\n",
    "\n",
    "Lists have what is called an index. Think of indexes as the numbers you will see in the rows of a spreadsheet and think of the variables as the letters of the columns. With that in mind, we know that Amazon in our companies list is at the beginning, hence, it has an index of 0. Remember, Python starts counting from 0.\n",
    "\n",
    "Let's access several elements to warm up."
   ]
  },
  {
   "cell_type": "code",
   "execution_count": null,
   "metadata": {},
   "outputs": [],
   "source": [
    "companies[0]"
   ]
  },
  {
   "cell_type": "code",
   "execution_count": null,
   "metadata": {},
   "outputs": [],
   "source": [
    "year_founded[4]"
   ]
  },
  {
   "cell_type": "markdown",
   "metadata": {},
   "source": [
    "To select a range of values in our list we can use a colon `:`, where the number on the left will be the starting point, and the number on the right the element our slice will go up to and not include. Slicing lists and other data structures in Python is, for the most part, always not-inclusive of the last term.\n",
    "\n",
    "We can also leave the right-hand side of the colon `[2:]` in our slice opened to signal that we want to select all of the values from our starting point and all the way to the end.\n",
    "\n",
    "The same happens when we do the opposite and provide an ending point but not a starting one, the slice will select all values from the beginning and up to, but not including, the number on the right of the column."
   ]
  },
  {
   "cell_type": "code",
   "execution_count": null,
   "metadata": {},
   "outputs": [],
   "source": [
    "year_founded[0:3]"
   ]
  },
  {
   "cell_type": "code",
   "execution_count": null,
   "metadata": {},
   "outputs": [],
   "source": [
    "companies[3:]"
   ]
  },
  {
   "cell_type": "code",
   "execution_count": null,
   "metadata": {},
   "outputs": [],
   "source": [
    "year_founded[:3]"
   ]
  },
  {
   "cell_type": "code",
   "execution_count": null,
   "metadata": {},
   "outputs": [],
   "source": [
    "# if you try to access a range that doesn't match the length of the list,\n",
    "# you will get an all of the elements in the list and nothing more\n",
    "year_founded[0:10] # this list does not have 10 elements"
   ]
  },
  {
   "cell_type": "markdown",
   "metadata": {},
   "source": [
    "Sometimes, lists become quite long and it is difficult to see what's in between or at the end. To see the end on a list, we can use the the minus `-` with any number except zero, and Python will give us the adequate number for such location. For example, `-1` will be equal to the last element of the list, `-2` will be equal to the second to last, and so forth."
   ]
  },
  {
   "cell_type": "code",
   "execution_count": null,
   "metadata": {},
   "outputs": [],
   "source": [
    "companies[-1]"
   ]
  },
  {
   "cell_type": "code",
   "execution_count": null,
   "metadata": {},
   "outputs": [],
   "source": [
    "companies[-2]"
   ]
  },
  {
   "cell_type": "markdown",
   "metadata": {},
   "source": [
    "You can also use negative indexes with slicers. Sometimes there is a very good reason to do so, e.g. with extremely long lists for which you know you need the last or second to last elements, other times, it might give you a headache to count that way."
   ]
  },
  {
   "cell_type": "code",
   "execution_count": null,
   "metadata": {},
   "outputs": [],
   "source": [
    "companies[:-2] # ignores the last two"
   ]
  },
  {
   "cell_type": "code",
   "execution_count": null,
   "metadata": {},
   "outputs": [],
   "source": [
    "companies[-3:] # starts from the third to last element and goes all the way to the end of the list"
   ]
  },
  {
   "cell_type": "markdown",
   "metadata": {},
   "source": [
    "We can append elements to a list or different lists together with a `+` sign or with the `.append()` method. "
   ]
  },
  {
   "cell_type": "code",
   "execution_count": null,
   "metadata": {},
   "outputs": [],
   "source": [
    "a_list = [1, 2, 3, 4]\n",
    "b_list = [5, 6, 7, 8]\n",
    "\n",
    "c_list = a_list + b_list\n",
    "\n",
    "print(a_list)\n",
    "print(b_list)\n",
    "print(c_list)"
   ]
  },
  {
   "cell_type": "markdown",
   "metadata": {},
   "source": [
    "We can also create an empty list with the square brackets `[]` and `.append()` anything to it. This is done very often in Python and usually through loops."
   ]
  },
  {
   "cell_type": "code",
   "execution_count": null,
   "metadata": {},
   "outputs": [],
   "source": [
    "# Regular version\n",
    "d_list = [] # an empty list\n",
    "d_list.append(3)\n",
    "d_list.append(17)\n",
    "d_list.append(25)\n",
    "print(d_list)"
   ]
  },
  {
   "cell_type": "markdown",
   "metadata": {},
   "source": [
    "If we want to have the last value of our list removed, say we don't want to have General Motos in our companies list anymore but rather have Microsoft, we can use the method `.pop()`. You can use this method with an index value to indicate which element of your list you would like to see disappear, or you can choose to use it without any arguments and `.pop()` will remove the last element of the list.\n",
    "\n",
    "Let's first use `.pop()` without an index and then see what happens with an index."
   ]
  },
  {
   "cell_type": "code",
   "execution_count": null,
   "metadata": {},
   "outputs": [],
   "source": [
    "# Without and index\n",
    "print(\"Before:\", companies)\n",
    "print(\"-\" * 60)\n",
    "companies.pop()\n",
    "print(\"After:\", companies)"
   ]
  },
  {
   "cell_type": "code",
   "execution_count": null,
   "metadata": {},
   "outputs": [],
   "source": [
    "# With an index\n",
    "print(\"Before:\", companies)\n",
    "print(\"-\" * 60)\n",
    "companies.pop(3) # select the element at index 3\n",
    "print(\"After:\", companies)"
   ]
  },
  {
   "cell_type": "markdown",
   "metadata": {},
   "source": [
    "One last thing that is useful to know about `.pop()` is that the element that gets removed from the list can be immediately added to a variable."
   ]
  },
  {
   "cell_type": "code",
   "execution_count": null,
   "metadata": {},
   "outputs": [],
   "source": [
    "# Add the `.pop()`ed value to the a new variable\n",
    "countries = ['Australia', 'New Zealand', 'Uganda', 'Portugal', 'Taiwan']\n",
    "print(\"Before:\", countries)\n",
    "print(\"-\" * 70)\n",
    "taiwan = countries.pop()\n",
    "print(\"After:\", countries)\n",
    "print(\"-\" * 60)\n",
    "print(\"New variable:\", taiwan)"
   ]
  },
  {
   "cell_type": "markdown",
   "metadata": {},
   "source": [
    "If you would like to insert a new element at a specific index location, you can use the method `.insert()` which takes two arguments, the first is the index of the list where you would like to put the element at, and the second is the element or elements you will be inserting.\n",
    "\n",
    "Since we like Tesla, let's add it back to our companies list at the same location it was at before. 🚗"
   ]
  },
  {
   "cell_type": "code",
   "execution_count": null,
   "metadata": {},
   "outputs": [],
   "source": [
    "# Adding Tesla back\n",
    "\n",
    "print(\"Before:\", companies)\n",
    "print(\"-\" * 60)\n",
    "companies.insert(3, \"Tesla\")\n",
    "print(\"After:\", companies)"
   ]
  },
  {
   "cell_type": "code",
   "execution_count": null,
   "metadata": {},
   "outputs": [],
   "source": [
    "# Adding back General Motors too\n",
    "\n",
    "print(\"Before:\", companies)\n",
    "print(\"-\" * 60)\n",
    "companies.insert(5, \"General Motors\")\n",
    "print(\"After:\", companies)"
   ]
  },
  {
   "cell_type": "markdown",
   "metadata": {},
   "source": [
    "If we would like to add a list to another list in a more functional way, using something similar to `.append()` or `.insert()`, we can use the method `.extend()` on the list we would like to modify. Then, we can pass as an argument the one we would like to modify the original one with."
   ]
  },
  {
   "cell_type": "code",
   "execution_count": null,
   "metadata": {},
   "outputs": [],
   "source": [
    "print(\"Before a_list:\", a_list)\n",
    "print(\"Before b_list:\", b_list)\n",
    "print(\"-\" * 25)\n",
    "a_list.extend(b_list)\n",
    "print(\"After, combined lists:\", a_list)"
   ]
  },
  {
   "cell_type": "markdown",
   "metadata": {},
   "source": [
    "It is important point out the difference between funcs and methods. A method is usually applied to and alters the original data type or structure while the function generates a new object. Think of this as:\n",
    "\n",
    "- `function(object)` --> How can I **transform** or use data\n",
    "- `object.function()` --> How can I **modify** the existing data type or structure\n",
    "\n",
    "Other useful functions that are always available in Python are `min()`, `max()`, `sorted()`, `sum()`, and many, many more that you can explore yourself by using the function by going to the following link, [built-in Python funcs](https://docs.python.org/3/library/functions.html).\n",
    "\n",
    "You can also inspect all of the functions available in a module by using the function dir`dir(module)`.\n",
    "\n",
    "Let's compare some of the bult-in functions since we will use some of them quite often in data analytics."
   ]
  },
  {
   "cell_type": "code",
   "execution_count": null,
   "metadata": {},
   "outputs": [],
   "source": [
    "numbers = [5, 20, 1, 3, 16, 9, 8, 13, 11, 5, 4, 2, 11, 17, 21]\n",
    "\n",
    "# Let's first compare the method sort with the function sorted\n",
    "print(f\"This list is now sorted: {sorted(numbers)}\")\n",
    "print('-' * 90)\n",
    "print(f\"But it didn't stay like that for long: {numbers}\")"
   ]
  },
  {
   "cell_type": "code",
   "execution_count": null,
   "metadata": {},
   "outputs": [],
   "source": [
    "numbers.sort()\n",
    "print(f\"This list was sorted, and it stayed like that --> {numbers}\")"
   ]
  },
  {
   "cell_type": "markdown",
   "metadata": {},
   "source": [
    "When we have lists or arrays of numbers we will often want to explore their content. For example, knowing the maximum and minimum values in a list gives us a sense of the range of the numbers in that array. In addition, knowing the length and the mode will help us understand how many elements or data points are in our arrays and how often does the most repeated one, or ones, appear."
   ]
  },
  {
   "cell_type": "code",
   "execution_count": null,
   "metadata": {},
   "outputs": [],
   "source": [
    "print(f\"The maximum value in our array is: {max(numbers)}\")\n",
    "print(f\"The minimum value in our array is: {min(numbers)}\")\n",
    "print(f\"The lenght of our array is: {len(numbers)}\")\n",
    "print(f\"The range of our array is: {max(numbers) - min(numbers)}\")"
   ]
  },
  {
   "cell_type": "markdown",
   "metadata": {},
   "source": [
    "We can find out the index of any element in our list by using the `.index()` method and passing to it the element we are interested in.\n",
    "\n",
    "For example, say we are interested in knowing where the number 21 is located at in our list so that we can remove it. With the `.index()` all we need to do is pass that method to it, and Python will provide us with its location."
   ]
  },
  {
   "cell_type": "code",
   "execution_count": null,
   "metadata": {},
   "outputs": [],
   "source": [
    "numbers.index(21)"
   ]
  },
  {
   "cell_type": "markdown",
   "metadata": {},
   "source": [
    "Our sorted list called `numbers` has (a length of) 15 elements, and since its maximum value is 21, the index of this max number is 14, or simply, the last index.\n",
    "\n",
    "We can fully copy a list in several different ways but we will focus on the following two mostly.\n",
    "- The first is by slicing it completely with `[:]` at the end.\n",
    "- The second is  using the method `.copy()` on a list and assigning the copy to a new variable.  \n",
    "\n",
    "**Note:** in most cases, you always want to assign the new copy to a new variable or object you are working with."
   ]
  },
  {
   "cell_type": "code",
   "execution_count": null,
   "metadata": {},
   "outputs": [],
   "source": [
    "print(\"Our original list: \", a_list)\n",
    "a_copy = a_list[:]\n",
    "a_list.pop()\n",
    "print(\"Our original list again: \", a_list)\n",
    "print(\"Our new (unaffected) copy: \", a_copy)"
   ]
  },
  {
   "cell_type": "markdown",
   "metadata": {},
   "source": [
    "We will sometimes need to delete some or all of the elements in a list. To do this, we can either use `del some_list` or the method `.clear()` on our list."
   ]
  },
  {
   "cell_type": "code",
   "execution_count": null,
   "metadata": {},
   "outputs": [],
   "source": [
    "temporary_list_a = [1, 2, 3, 4, 5]\n",
    "\n",
    "# Let's first delete a single element\n",
    "\n",
    "del temporary_list_a[2] # this will delete the element at index two which is 3\n",
    "print(temporary_list_a)"
   ]
  },
  {
   "cell_type": "code",
   "execution_count": null,
   "metadata": {},
   "outputs": [],
   "source": [
    "# No slice will delete the full list and we will receive an error\n",
    "# if we try to print it after deleting it\n",
    "\n",
    "del temporary_list_a # deletes the full list\n",
    "print(temporary_list_a) # can't print anything"
   ]
  },
  {
   "cell_type": "code",
   "execution_count": null,
   "metadata": {},
   "outputs": [],
   "source": [
    "# let's try the next method with the following list\n",
    "\n",
    "temporary_list_b = [6, 7, 8, 9, 10]\n",
    "print(temporary_list_b)"
   ]
  },
  {
   "cell_type": "code",
   "execution_count": null,
   "metadata": {},
   "outputs": [],
   "source": [
    "# The clear method leaves an empty list behind but does not delete the variable holding it\n",
    "temporary_list_b.clear()\n",
    "print(temporary_list_b)"
   ]
  },
  {
   "cell_type": "markdown",
   "metadata": {},
   "source": [
    "## Exercise 1"
   ]
  },
  {
   "cell_type": "markdown",
   "metadata": {},
   "source": [
    "Create a range of 20 numbers and create a slice of the last 5 elements.\n",
    "- Name the list `first_list`.\n",
    "- Name the slice `first_slice`."
   ]
  },
  {
   "cell_type": "code",
   "execution_count": null,
   "metadata": {},
   "outputs": [],
   "source": []
  },
  {
   "cell_type": "markdown",
   "metadata": {},
   "source": [
    "## Exercise 2"
   ]
  },
  {
   "cell_type": "markdown",
   "metadata": {},
   "source": [
    "- Create a list with string data only and name it `string_list`. Add at least 5 elements.\n",
    "- Create a slice of at least two elements and assign it to a variable called `string_slice`.\n",
    "- Create a slice of one element and a further slice of one letter. Assign it to a variable called `tiny_slice`."
   ]
  },
  {
   "cell_type": "code",
   "execution_count": null,
   "metadata": {},
   "outputs": [],
   "source": []
  },
  {
   "cell_type": "markdown",
   "metadata": {},
   "source": [
    "## Exercise 3"
   ]
  },
  {
   "cell_type": "markdown",
   "metadata": {},
   "source": [
    "- Create a list of 30 numbers and select assign to the variable `thirty`.\n",
    "- Select every other element."
   ]
  },
  {
   "cell_type": "code",
   "execution_count": null,
   "metadata": {},
   "outputs": [],
   "source": []
  },
  {
   "cell_type": "markdown",
   "metadata": {},
   "source": [
    "# 1.2 Lists and Matrices"
   ]
  },
  {
   "cell_type": "markdown",
   "metadata": {},
   "source": [
    "Matrices are two-dimensional arrays that help us do computations with data, of the same or different structure, and that can be thought of as rows and columns of a spreadsheet. Think of the computations of matrices as small pieces of operations on data. For example, the addition of all of the elements in column A and column B starting from row 1 and ending in row 15 of Excel.\n",
    "\n",
    "Matrices in plain Python can be created as lists of lists, which are often referred to as nested lists. For example:"
   ]
  },
  {
   "cell_type": "code",
   "execution_count": null,
   "metadata": {},
   "outputs": [],
   "source": [
    "A_matrix = [[3, 7, 15],\n",
    "            [8, 2, 19],\n",
    "            [10, 6, 1]]\n",
    "\n",
    "print(A_matrix)"
   ]
  },
  {
   "cell_type": "markdown",
   "metadata": {},
   "source": [
    "You can access the data in a matrix in a similar fashion as with lists of only one dimension, but you will need an additional bracket and numbers next to the first set of slicing brackets, e.g. `Matrix[1][2]`."
   ]
  },
  {
   "cell_type": "code",
   "execution_count": 156,
   "metadata": {},
   "outputs": [
    {
     "data": {
      "text/plain": [
       "19"
      ]
     },
     "execution_count": 156,
     "metadata": {},
     "output_type": "execute_result"
    }
   ],
   "source": [
    "A_matrix[1][2]"
   ]
  },
  {
   "cell_type": "markdown",
   "metadata": {},
   "source": [
    "In the example above, the first bracket is in charge of selecting a row, and the second will select a column. For example, to get the number `19` from the previous matrix, `[1]` in the first bracket selects the second row of the list, and `[2]` in the second bracket selects the third column.\n",
    "\n",
    "Let's now get the number 15 from our `A_matrix`."
   ]
  },
  {
   "cell_type": "code",
   "execution_count": null,
   "metadata": {},
   "outputs": [],
   "source": [
    "A_matrix[0][2]"
   ]
  },
  {
   "cell_type": "markdown",
   "metadata": {},
   "source": [
    "To change the element of a list, array, or matrix, you can add an equal sign to the right of the matrix with the sliced data and add the element you want to the right of it. Remember, lists are mutable data structures, this means we can change their content however and whenever we want."
   ]
  },
  {
   "cell_type": "code",
   "execution_count": null,
   "metadata": {},
   "outputs": [],
   "source": [
    "print(A_matrix[2][0])\n",
    "A_matrix[2][0] = 28\n",
    "print(A_matrix[2][0])"
   ]
  },
  {
   "cell_type": "markdown",
   "metadata": {},
   "source": [
    "You can also do calculations in only one array of a matrix, provided the array in a matrix is of the appropriate type.\n",
    "\n",
    "Let's add the first and third rows of our matrix."
   ]
  },
  {
   "cell_type": "code",
   "execution_count": null,
   "metadata": {},
   "outputs": [],
   "source": [
    "print(\"This will add the first row: %i\" % sum(A_matrix[0]))"
   ]
  },
  {
   "cell_type": "code",
   "execution_count": null,
   "metadata": {},
   "outputs": [],
   "source": [
    "print(\"This will add the third row: %i\" % sum(A_matrix[2]))"
   ]
  },
  {
   "cell_type": "code",
   "execution_count": null,
   "metadata": {},
   "outputs": [],
   "source": [
    "print(\"The columns are a bit trickier. Here is the third column: %i\" % (A_matrix[0][2] + A_matrix[1][2] + A_matrix[2][2]))"
   ]
  },
  {
   "cell_type": "markdown",
   "metadata": {},
   "source": [
    "When working with data in a matrix, we will most often than not be using the packages pandas or NumPy, the latter being the next topic in this lesson."
   ]
  },
  {
   "cell_type": "markdown",
   "metadata": {},
   "source": [
    "## Exercise 4"
   ]
  },
  {
   "cell_type": "markdown",
   "metadata": {},
   "source": [
    "- Create a list of 30 numbers and select assign to the variable `thirty`.\n",
    "- Select every other element."
   ]
  },
  {
   "cell_type": "code",
   "execution_count": null,
   "metadata": {},
   "outputs": [],
   "source": []
  },
  {
   "cell_type": "markdown",
   "metadata": {},
   "source": [
    "## Exercise 5"
   ]
  },
  {
   "cell_type": "markdown",
   "metadata": {},
   "source": [
    "Use a for loop to print all of the elements in your `fifty` list. Add a nice printing format to it."
   ]
  },
  {
   "cell_type": "code",
   "execution_count": null,
   "metadata": {},
   "outputs": [],
   "source": []
  },
  {
   "cell_type": "markdown",
   "metadata": {},
   "source": [
    "## Exercise 6"
   ]
  },
  {
   "cell_type": "markdown",
   "metadata": {},
   "source": [
    "Use a for loop and iterate over your `fifty` list while subtracting 5, raising to the power of 2, adding 10, and diving by 3, each element of the list."
   ]
  },
  {
   "cell_type": "code",
   "execution_count": null,
   "metadata": {},
   "outputs": [],
   "source": []
  },
  {
   "cell_type": "markdown",
   "metadata": {},
   "source": [
    "# 2. Intro to Numpy"
   ]
  },
  {
   "cell_type": "markdown",
   "metadata": {},
   "source": [
    "![numpy](https://upload.wikimedia.org/wikipedia/commons/thumb/1/1a/NumPy_logo.svg/1200px-NumPy_logo.svg.png)\n",
    "**Source:** https://en.wikipedia.org/wiki/NumPy\n",
    "\n",
    "Numpy stands for Numerical Python and is one of the core libraries for everything that is related to data analysis in Python. In fact, it is so important for the entire data analytics and data science ecosystem, that most of the libraries and packages we will see in later lessons (and that you will continue to see later in your career) will most likely depend, in one way or another, on NumPy.\n",
    "\n",
    "This versatile library allows to do fast and efficient computations with arrays and matrices as well as simple-to-complex mathematical calculations. One of the reasons why it is so powerful and fast is that it is written on top libraries that interact with some functionalities of the C programming language. This means that they are executed much closer to the hardware of our computers than the regular lists in Python. We will compare the speed of both, lists and numpy arrays, later in this lesson to understand better what sets the apart.\n",
    "\n",
    "Main Characteristics of NumPy:\n",
    "\n",
    "- Many built-in mathematical functions\n",
    "- Efficient computations with n-dimensional arrays (n is the number of dimensions)\n",
    "- Fast\n",
    "- It allows for broadcasting. This is the equivalent computation of a loop but without the loop. Meaning, for a lot of tasks with large datasets, you won't need to create a loop\n",
    "- Arrays use less of your computer memory than built-in Python equivalent data types and structures\n",
    "- Excellent tool for generating random data. This will be useful if you would like to simulate different scenarios with post-marketing campaign sales, stock prices, weather impact on agricultural production, etc.\n",
    "\n",
    "Let's beging by importing our library with its industry alias (remember, an alias is the nickname you give to the modules you import). The community using Python for data analysis has adopted the convention of importing NumPy as `np`, and to make collaborating easier and save us typing unnecessary letters, we will follow this convention."
   ]
  },
  {
   "cell_type": "markdown",
   "metadata": {},
   "source": [
    "# 2.1 Numpy Basics"
   ]
  },
  {
   "cell_type": "code",
   "execution_count": 4,
   "metadata": {},
   "outputs": [],
   "source": [
    "import numpy as np"
   ]
  },
  {
   "cell_type": "markdown",
   "metadata": {},
   "source": [
    "Once you import numpy, and any other package for that matter, you can check its version with `.__version__`."
   ]
  },
  {
   "cell_type": "code",
   "execution_count": 158,
   "metadata": {},
   "outputs": [
    {
     "data": {
      "text/plain": [
       "'1.18.1'"
      ]
     },
     "execution_count": 158,
     "metadata": {},
     "output_type": "execute_result"
    }
   ],
   "source": [
    "np.__version__"
   ]
  },
  {
   "cell_type": "markdown",
   "metadata": {},
   "source": [
    "## Exercise 7\n",
    "\n",
    "Find a package online, install it with pip, and check its version as described above."
   ]
  },
  {
   "cell_type": "code",
   "execution_count": 5,
   "metadata": {},
   "outputs": [
    {
     "name": "stdout",
     "output_type": "stream",
     "text": [
      "Requirement already satisfied: altair in c:\\users\\home\\anaconda3\\lib\\site-packages (4.1.0)\n",
      "Requirement already satisfied: numpy in c:\\users\\home\\anaconda3\\lib\\site-packages (from altair) (1.18.1)\n",
      "Requirement already satisfied: pandas>=0.18 in c:\\users\\home\\anaconda3\\lib\\site-packages (from altair) (1.0.1)\n",
      "Requirement already satisfied: toolz in c:\\users\\home\\anaconda3\\lib\\site-packages (from altair) (0.10.0)\n",
      "Requirement already satisfied: entrypoints in c:\\users\\home\\anaconda3\\lib\\site-packages (from altair) (0.3)\n",
      "Requirement already satisfied: jinja2 in c:\\users\\home\\anaconda3\\lib\\site-packages (from altair) (2.11.1)\n",
      "Requirement already satisfied: jsonschema in c:\\users\\home\\anaconda3\\lib\\site-packages (from altair) (3.2.0)\n",
      "Requirement already satisfied: python-dateutil>=2.6.1 in c:\\users\\home\\anaconda3\\lib\\site-packages (from pandas>=0.18->altair) (2.8.1)\n",
      "Requirement already satisfied: pytz>=2017.2 in c:\\users\\home\\anaconda3\\lib\\site-packages (from pandas>=0.18->altair) (2019.3)\n",
      "Requirement already satisfied: MarkupSafe>=0.23 in c:\\users\\home\\anaconda3\\lib\\site-packages (from jinja2->altair) (1.1.1)\n",
      "Requirement already satisfied: pyrsistent>=0.14.0 in c:\\users\\home\\anaconda3\\lib\\site-packages (from jsonschema->altair) (0.15.7)\n",
      "Requirement already satisfied: setuptools in c:\\users\\home\\anaconda3\\lib\\site-packages (from jsonschema->altair) (45.2.0.post20200210)\n",
      "Requirement already satisfied: attrs>=17.4.0 in c:\\users\\home\\anaconda3\\lib\\site-packages (from jsonschema->altair) (19.3.0)\n",
      "Requirement already satisfied: six>=1.11.0 in c:\\users\\home\\anaconda3\\lib\\site-packages (from jsonschema->altair) (1.14.0)\n",
      "Requirement already satisfied: importlib-metadata; python_version < \"3.8\" in c:\\users\\home\\anaconda3\\lib\\site-packages (from jsonschema->altair) (1.5.0)\n",
      "Requirement already satisfied: zipp>=0.5 in c:\\users\\home\\anaconda3\\lib\\site-packages (from importlib-metadata; python_version < \"3.8\"->jsonschema->altair) (2.2.0)\n"
     ]
    }
   ],
   "source": [
    "# Install it here\n",
    "!pip install altair"
   ]
  },
  {
   "cell_type": "code",
   "execution_count": 106,
   "metadata": {},
   "outputs": [],
   "source": [
    "# Import it here\n",
    "import altair"
   ]
  },
  {
   "cell_type": "code",
   "execution_count": 107,
   "metadata": {},
   "outputs": [
    {
     "data": {
      "text/plain": [
       "'4.1.0'"
      ]
     },
     "execution_count": 107,
     "metadata": {},
     "output_type": "execute_result"
    }
   ],
   "source": [
    "# Check its version here\n",
    "altair.__version__"
   ]
  },
  {
   "cell_type": "markdown",
   "metadata": {},
   "source": [
    "Arrays in numpy are similar to lists but they differ in that they can only contain one data type. If you have ever added a number to a column, row, or both in Excel then you have already worked with arrays and matrices. If you have ever written a list of different things you needed to buy at the supermarket, as well as the quantity of each, then you have already created a two-dimensional array or matrix.\n",
    "\n",
    "Thinking of numpy arrays as the components of a spreadsheet, will help solidify your understanding of these concepts.\n",
    "\n",
    "| Index |    Date   |     Item     |  Quantity |\n",
    "|:-----:|:---------:|:------------:|:---------:|\n",
    "|   1   | 12-Apr-20 | toilet paper |   1000    |\n",
    "|   2   | 20-Apr-20 | chicken      |     10    |\n",
    "|   3   | 27-Apr-20 | toilet paper |    500    |\n",
    "|   4   | 27-Apr-20 | cereal       |      2    |\n",
    "|   5   | 27-Apr-20 | bread        |      1    |\n",
    "\n",
    "We can start working with arrays by calling the `.array()` method from our numpy module. These methods take in regular Python lists and transform them immediately into their own numpy class."
   ]
  },
  {
   "cell_type": "code",
   "execution_count": 165,
   "metadata": {},
   "outputs": [
    {
     "name": "stdout",
     "output_type": "stream",
     "text": [
      "[40 50 16 10 19 32 27 11] <class 'numpy.ndarray'>\n"
     ]
    },
    {
     "data": {
      "text/plain": [
       "array([45, 55, 21, 15, 24, 37, 32, 16])"
      ]
     },
     "execution_count": 165,
     "metadata": {},
     "output_type": "execute_result"
    }
   ],
   "source": [
    "# Create your first array\n",
    "\n",
    "first_array = np.array([40, 50, 16, 10, 19, 32, 27, 11])\n",
    "print(first_array, type(first_array))\n",
    "\n",
    "first_array + 5"
   ]
  },
  {
   "cell_type": "markdown",
   "metadata": {},
   "source": [
    "You have already seen the native function `range()`, which creates a range of values from a given value, and up to a point with or without a step in between. The equivalent of this function in numpy is the `np.arange()` (pronounced 'a' 'range' not 'arange' from the verb 'aranging'). The nice thing about the numpy's version is that we can add an additional parameter that lets us pick the data type of the array. For example, and even thought you might not worry about this until you tackle more advaced problems with larger datasets, the difference between a data type `int8` and `int64` can increase the performance of a computation by reducing the bite size of an array.\n",
    "\n",
    "Let's use both, `range()` and `np.arange()` to see how they work."
   ]
  },
  {
   "cell_type": "code",
   "execution_count": 166,
   "metadata": {},
   "outputs": [
    {
     "name": "stdout",
     "output_type": "stream",
     "text": [
      "[0, 1, 2, 3, 4, 5, 6, 7, 8, 9]\n",
      "[0, 1, 2, 3, 4, 5, 6, 7, 8, 9]\n",
      "[0, 2, 4, 6, 8]\n"
     ]
    }
   ],
   "source": [
    "# since range() is a lazy function, we have to wrap it around a list() to print its values\n",
    "print(list(range(10))) # create array of 10 numbers from 0 to 9\n",
    "print(list(range(0, 10))) # create array of 10 numbers from 0 to 9\n",
    "print(list(range(0, 10, 2))) # create array of even numbers from 0 to 9. Stepwise operation!"
   ]
  },
  {
   "cell_type": "code",
   "execution_count": 167,
   "metadata": {},
   "outputs": [
    {
     "name": "stdout",
     "output_type": "stream",
     "text": [
      "[0 1 2 3 4 5 6 7 8 9]\n",
      "[0 1 2 3 4 5 6 7 8 9]\n",
      "[0 1 2 3 4 5 6 7 8 9]\n",
      "[0 2 4 6 8]\n"
     ]
    }
   ],
   "source": [
    "# NumPy example\n",
    "print(np.arange(10)) # create array of 10 numbers from 0 to 9\n",
    "print(np.arange(10, dtype='int8')) # create array of 10 numbers from 0 to 9 and with integers of 8 bites\n",
    "print(np.arange(0, 10, dtype='int32')) # create array of 10 numbers from 0 to 9 and with integers of 32 bites\n",
    "print(np.arange(0, 10, 2, dtype='int64')) # create array of 5 even numbers from 0 to 9. Stepwise operation  and with integers of 64 bites"
   ]
  },
  {
   "cell_type": "markdown",
   "metadata": {},
   "source": [
    "NumPy comes with its own methods for checking the shape, data type, and dimensions of your arrays. This can come in handy when working and sharing data with others who might not be able to tell, upon fast inspection, how these previously mentioned characteristics (shape, dtype, and number of dimensions) are shown in your data.\n",
    "\n",
    "When we use the attribute `.shape` on an array, we get back a `tuple` with the rows as the first element and the columns as the second element.\n",
    "\n",
    "**Note:** Remember tuples can, but don't have to, be surrounded by parethesis but they always have to have at least one comma `,` separating at least one element. e.g. `(6, 7)` or `6, 7` or `(5,)` are all tuples."
   ]
  },
  {
   "cell_type": "code",
   "execution_count": 168,
   "metadata": {},
   "outputs": [
    {
     "name": "stdout",
     "output_type": "stream",
     "text": [
      "int32\n",
      "(8,)\n",
      "1\n"
     ]
    }
   ],
   "source": [
    "\n",
    "\n",
    "\n",
    "print(first_array.dtype) # data type\n",
    "print(first_array.shape) # (rows, columns)\n",
    "print(first_array.ndim) # dimension"
   ]
  },
  {
   "cell_type": "markdown",
   "metadata": {},
   "source": [
    "Our first variable earlier, `first_array`, was initiated on the spot as a numpy array from what looked a lot like a list, and that is exactly what is would have been should it have been outside the numpy array constructor. If we have been working with a list of a single data type and we wanted to convert it into a numpy array, we could do so in the following way."
   ]
  },
  {
   "cell_type": "code",
   "execution_count": 174,
   "metadata": {},
   "outputs": [
    {
     "name": "stdout",
     "output_type": "stream",
     "text": [
      "This some_list is of type <class 'list'>\n",
      "------------------------------\n",
      "and some_array is of type <class 'numpy.ndarray'>\n"
     ]
    }
   ],
   "source": [
    "some_list = [23, 12, 9, 20, 15, 34]\n",
    "some_array = np.array(some_list)\n",
    "print(f\"This some_list is of type {type(some_list)}\\n\" + '-' * 30 + \"\\n\" + f\"and some_array is of type {type(some_array)}\")"
   ]
  },
  {
   "cell_type": "markdown",
   "metadata": {},
   "source": [
    "To test your understanding of printing in Python, try to unpack what is happening insinde the print statement above. Could we write that same one line in a cleaner way? 🤔"
   ]
  },
  {
   "cell_type": "markdown",
   "metadata": {},
   "source": [
    "You can also create or pass to a numpy array multiple lists or lists of lists. Remember that numpy only accepts one data type per array.\n",
    "\n",
    "In addition to lists, tuples, and sets can also be passed into a numpy array."
   ]
  },
  {
   "cell_type": "code",
   "execution_count": 6,
   "metadata": {},
   "outputs": [
    {
     "ename": "AttributeError",
     "evalue": "'list' object has no attribute 'shape'",
     "output_type": "error",
     "traceback": [
      "\u001b[1;31m---------------------------------------------------------------------------\u001b[0m",
      "\u001b[1;31mAttributeError\u001b[0m                            Traceback (most recent call last)",
      "\u001b[1;32m<ipython-input-6-98af329931c4>\u001b[0m in \u001b[0;36m<module>\u001b[1;34m\u001b[0m\n\u001b[0;32m      5\u001b[0m                [11, 14, 19, 7]]\n\u001b[0;32m      6\u001b[0m \u001b[1;33m\u001b[0m\u001b[0m\n\u001b[1;32m----> 7\u001b[1;33m \u001b[0mprint\u001b[0m\u001b[1;33m(\u001b[0m\u001b[0mmatrix_list\u001b[0m\u001b[1;33m.\u001b[0m\u001b[0mshape\u001b[0m\u001b[1;33m)\u001b[0m\u001b[1;33m\u001b[0m\u001b[1;33m\u001b[0m\u001b[0m\n\u001b[0m",
      "\u001b[1;31mAttributeError\u001b[0m: 'list' object has no attribute 'shape'"
     ]
    }
   ],
   "source": [
    "# this is a matrix of multiple lists\n",
    "\n",
    "matrix_list = [[1, 2, 3, 4],\n",
    "               [20, 22, 27, 15], \n",
    "               [11, 14, 19, 7]]\n",
    "\n",
    "print(matrix_list.shape)"
   ]
  },
  {
   "cell_type": "code",
   "execution_count": 176,
   "metadata": {},
   "outputs": [
    {
     "name": "stdout",
     "output_type": "stream",
     "text": [
      "(3, 4)\n"
     ]
    }
   ],
   "source": [
    "matrix_array = np.array([[1, 2, 3, 4], # this is a matrix of multiple arrays\n",
    "                         [5, 6, 7, 8], # even though it looks just like a bunch of lists\n",
    "                         [9, 8, 7, 6]]) # it is treated differently in python\n",
    "\n",
    "print(matrix_array.shape)"
   ]
  },
  {
   "cell_type": "code",
   "execution_count": 175,
   "metadata": {},
   "outputs": [],
   "source": [
    "ndarray_lists = np.array(matrix_list) # this is a matrix created from a list of lists"
   ]
  },
  {
   "cell_type": "code",
   "execution_count": 178,
   "metadata": {},
   "outputs": [
    {
     "name": "stdout",
     "output_type": "stream",
     "text": [
      "[[1, 2, 3, 4], [20, 22, 27, 15], [11, 14, 19, 7]] <class 'list'> [[1, 2, 3, 4], [20, 22, 27, 15], [11, 14, 19, 7]]\n",
      "----------------------------------------\n",
      "[[1 2 3 4]\n",
      " [5 6 7 8]\n",
      " [9 8 7 6]] int32\n",
      "----------------------------------------\n",
      "[[ 1  2  3  4]\n",
      " [20 22 27 15]\n",
      " [11 14 19  7]] int32\n"
     ]
    }
   ],
   "source": [
    "print(matrix_list, type(matrix_list), matrix_list)\n",
    "print(\"-\" * 40)\n",
    "print(matrix_array, matrix_array.dtype)\n",
    "print(\"-\" * 40)\n",
    "print(ndarray_lists, ndarray_lists.dtype)"
   ]
  },
  {
   "cell_type": "code",
   "execution_count": 179,
   "metadata": {},
   "outputs": [
    {
     "name": "stdout",
     "output_type": "stream",
     "text": [
      "[['Hi' 'this' 'is' 'a']\n",
      " ['matrix' 'that' 'only' 'contains']\n",
      " ['text' 'and' 'no' 'numbers']]\n"
     ]
    }
   ],
   "source": [
    "# this is a numpy matrix of multiple arrays as strings\n",
    "\n",
    "matrix_text = np.array([[\"Hi\", \"this\", \"is\", \"a\"],\n",
    "                         [\"matrix\", \"that\", \"only\", \"contains\"],\n",
    "                         [\"text\", \"and\", \"no\", \"numbers\"]])\n",
    "print(matrix_text)"
   ]
  },
  {
   "cell_type": "markdown",
   "metadata": {},
   "source": [
    "If you are ever unsure of the number of dimmensions a numpy array has, you can always check this with the `.ndim` attribute. Also, whenever you see a list of lists in an object, it helps to think of it as an Excel spreadsheet."
   ]
  },
  {
   "cell_type": "code",
   "execution_count": 180,
   "metadata": {},
   "outputs": [
    {
     "name": "stdout",
     "output_type": "stream",
     "text": [
      "2\n"
     ]
    }
   ],
   "source": [
    "print(matrix_text.ndim)"
   ]
  },
  {
   "cell_type": "markdown",
   "metadata": {},
   "source": [
    "We can also select and change numbers in the same fashion as with lists, but with an additional functionality of being able to pinpoint exactly what we want by selecting columns and rows within the same bracket.\n",
    "\n",
    "Let's see what `array[rows,columns]` looks like by starting with the rows first.\n",
    "\n",
    "> **array[start:end:step, start:end:step]**  "
   ]
  },
  {
   "cell_type": "code",
   "execution_count": 181,
   "metadata": {},
   "outputs": [
    {
     "name": "stdout",
     "output_type": "stream",
     "text": [
      "Our first array --> [40 50 16 10 19 32 27 11] has 1 dimension(s)\n",
      "----------------------------------------\n",
      "One element --> 40\n",
      "----------------------------------------\n",
      "More than one element --> [40 50 16 10 19]\n",
      "----------------------------------------\n",
      "More than one element --> [16 10 19]\n"
     ]
    }
   ],
   "source": [
    "print(f\"Our first array --> {first_array} has {first_array.ndim} dimension(s)\")\n",
    "print(\"-\" * 40)\n",
    "print(f\"One element --> {first_array[0]}\") # select an element first row\n",
    "print(\"-\" * 40)\n",
    "print(f\"More than one element --> {first_array[:5]}\") # select elements from 0 to 4\n",
    "print(\"-\" * 40)\n",
    "print(f\"More than one element --> {first_array[2:-3]}\") # select elements from the 3rd to the third to last\n",
    "# negative indexing starts from the end without using 0"
   ]
  },
  {
   "cell_type": "markdown",
   "metadata": {},
   "source": [
    "To select elements from a matrix we need to have a comma `,` separating our data. The rows are on the left and the columns will be on the right. The colon `:` still allows us to select a range, and adding an additional colon `:` allows us to select elements with steps in between.\n",
    "\n",
    "Being able to select columns becomes specially useful when we have different data in our ararys. Think about our shoping list again (a mix of arrays). We will need to select specific elements from it as we go through the isles of the supermarket.\n",
    "\n",
    "![groceries](https://media.giphy.com/media/l0G16KpPfcmdN1G1O/giphy.gif)  \n",
    "\n",
    "> **matrix\\[start:end:step, start:end:step\\]**"
   ]
  },
  {
   "cell_type": "code",
   "execution_count": 182,
   "metadata": {},
   "outputs": [
    {
     "data": {
      "text/plain": [
       "array([[1, 2, 3, 4],\n",
       "       [5, 6, 7, 8],\n",
       "       [9, 8, 7, 6]])"
      ]
     },
     "execution_count": 182,
     "metadata": {},
     "output_type": "execute_result"
    }
   ],
   "source": [
    "matrix_array"
   ]
  },
  {
   "cell_type": "code",
   "execution_count": 197,
   "metadata": {},
   "outputs": [
    {
     "name": "stdout",
     "output_type": "stream",
     "text": [
      "8\n",
      "-------------------------\n",
      "[4 8 6]\n",
      "-------------------------\n",
      "[[1 2 3 4]\n",
      " [5 6 7 8]\n",
      " [9 8 7 6]]\n",
      "-------------------------\n",
      "[[1 2]\n",
      " [5 6]\n",
      " [9 8]]\n",
      "[2 6 8] [3 7 7]\n"
     ]
    }
   ],
   "source": [
    "print(matrix_array[1, 3]) # element on second row and second column\n",
    "print(\"-\" * 25)\n",
    "print(matrix_array[:, 3]) # all rows of column 2\n",
    "print(\"-\" * 25)\n",
    "print(matrix_array[:, :]) # all rows and columns i.e. a full copy\n",
    "print(\"-\" * 25)\n",
    "print(matrix_array[:, :2]) # everything in the first two columns\n",
    "print(matrix_array [:, 1], matrix_array [:, 2])"
   ]
  },
  {
   "cell_type": "markdown",
   "metadata": {},
   "source": [
    "Remember, selecting one element of an (nd)array can be considered indexing, and selecting a group of elements from an (nd)array can be thought of as slicing your data.\n",
    "\n",
    "Let's go over a few more examples before going over some exercises, and let's first create a 5 by 5 matrix and call it Matrix X."
   ]
  },
  {
   "cell_type": "code",
   "execution_count": 7,
   "metadata": {},
   "outputs": [
    {
     "data": {
      "text/plain": [
       "array([[15, 41, 30, 11, 29],\n",
       "       [22,  8, 13, 10, 14],\n",
       "       [31, 19, 45, 16, 23],\n",
       "       [17, 16, 33,  1, 34],\n",
       "       [ 6, 27, 38, 25, 18]])"
      ]
     },
     "execution_count": 7,
     "metadata": {},
     "output_type": "execute_result"
    }
   ],
   "source": [
    "matrix_x = np.array([[15, 41, 30, 11, 29],\n",
    "                    [22, 8, 13, 10, 14],\n",
    "                    [31, 19, 45, 16, 23],\n",
    "                    [17, 16, 33, 1, 34],\n",
    "                    [6, 27, 38, 25, 18]])\n",
    "matrix_x"
   ]
  },
  {
   "cell_type": "markdown",
   "metadata": {},
   "source": [
    "Let's figure out how to select the following rows and columns from Matrix X.\n",
    "\n",
    "![alt](https://raw.githubusercontent.com/CoderAcademyEdu/intro-python-4-da/master/lesson_2/pictures/matrix_x_1.jpeg?token=AJXSBW5KFPS2MD5J7CRIPEC6ZY7MU)"
   ]
  },
  {
   "cell_type": "code",
   "execution_count": 2,
   "metadata": {},
   "outputs": [
    {
     "ename": "NameError",
     "evalue": "name 'matrix_x' is not defined",
     "output_type": "error",
     "traceback": [
      "\u001b[1;31m---------------------------------------------------------------------------\u001b[0m",
      "\u001b[1;31mNameError\u001b[0m                                 Traceback (most recent call last)",
      "\u001b[1;32m<ipython-input-2-e8ad7939f26e>\u001b[0m in \u001b[0;36m<module>\u001b[1;34m\u001b[0m\n\u001b[1;32m----> 1\u001b[1;33m \u001b[0mmatrix_x\u001b[0m\u001b[1;33m\u001b[0m\u001b[1;33m\u001b[0m\u001b[0m\n\u001b[0m",
      "\u001b[1;31mNameError\u001b[0m: name 'matrix_x' is not defined"
     ]
    }
   ],
   "source": [
    "matrix_x"
   ]
  },
  {
   "cell_type": "code",
   "execution_count": 200,
   "metadata": {},
   "outputs": [
    {
     "data": {
      "text/plain": [
       "array([15, 22, 31, 17,  6])"
      ]
     },
     "execution_count": 200,
     "metadata": {},
     "output_type": "execute_result"
    }
   ],
   "source": [
    "# Matrix X number 1\n",
    "\n",
    "# We want all rows in the first column\n",
    "\n",
    "matrix_x[:, 0]"
   ]
  },
  {
   "cell_type": "code",
   "execution_count": 201,
   "metadata": {},
   "outputs": [
    {
     "data": {
      "text/plain": [
       "array([15, 41, 30, 11, 29])"
      ]
     },
     "execution_count": 201,
     "metadata": {},
     "output_type": "execute_result"
    }
   ],
   "source": [
    "# Matrix X number 2\n",
    "\n",
    "# We want the first row and all columns\n",
    "\n",
    "matrix_x[0, :]"
   ]
  },
  {
   "cell_type": "code",
   "execution_count": 202,
   "metadata": {},
   "outputs": [
    {
     "data": {
      "text/plain": [
       "15"
      ]
     },
     "execution_count": 202,
     "metadata": {},
     "output_type": "execute_result"
    }
   ],
   "source": [
    "# Matrix X number 3\n",
    "\n",
    "# We want the intersection of the first column and the first row\n",
    "\n",
    "matrix_x[0, 0]"
   ]
  },
  {
   "cell_type": "markdown",
   "metadata": {},
   "source": [
    "Let's make things a bit more interesting by scaling the complexity of how we slice our matrix X.\n",
    "\n",
    "![alt](https://raw.githubusercontent.com/CoderAcademyEdu/intro-python-4-da/master/lesson_2/pictures/matrix_x_2.jpeg?token=AJXSBW37MSJ5KYTBPDASYX26ZY7RM)"
   ]
  },
  {
   "cell_type": "code",
   "execution_count": 203,
   "metadata": {},
   "outputs": [
    {
     "data": {
      "text/plain": [
       "array([[15, 41, 30, 11, 29],\n",
       "       [22,  8, 13, 10, 14],\n",
       "       [31, 19, 45, 16, 23],\n",
       "       [17, 16, 33,  1, 34],\n",
       "       [ 6, 27, 38, 25, 18]])"
      ]
     },
     "execution_count": 203,
     "metadata": {},
     "output_type": "execute_result"
    }
   ],
   "source": [
    "# Let's print matrix x again\n",
    "\n",
    "matrix_x"
   ]
  },
  {
   "cell_type": "code",
   "execution_count": 204,
   "metadata": {},
   "outputs": [
    {
     "data": {
      "text/plain": [
       "array([[15, 41, 30, 11, 29],\n",
       "       [31, 19, 45, 16, 23],\n",
       "       [ 6, 27, 38, 25, 18]])"
      ]
     },
     "execution_count": 204,
     "metadata": {},
     "output_type": "execute_result"
    }
   ],
   "source": [
    "# Matrix X number 4\n",
    "\n",
    "# We want all columns and every other row\n",
    "\n",
    "matrix_x[::2, :]"
   ]
  },
  {
   "cell_type": "code",
   "execution_count": 205,
   "metadata": {},
   "outputs": [
    {
     "data": {
      "text/plain": [
       "array([[15, 30, 29],\n",
       "       [22, 13, 14],\n",
       "       [31, 45, 23],\n",
       "       [17, 33, 34],\n",
       "       [ 6, 38, 18]])"
      ]
     },
     "execution_count": 205,
     "metadata": {},
     "output_type": "execute_result"
    }
   ],
   "source": [
    "# Matrix X number 5\n",
    "\n",
    "# We want all rows and every other column\n",
    "\n",
    "matrix_x[:, ::2]"
   ]
  },
  {
   "cell_type": "code",
   "execution_count": 8,
   "metadata": {},
   "outputs": [
    {
     "data": {
      "text/plain": [
       "array([[ 8, 10],\n",
       "       [16,  1]])"
      ]
     },
     "execution_count": 8,
     "metadata": {},
     "output_type": "execute_result"
    }
   ],
   "source": [
    "# Matrix X number 6\n",
    "\n",
    "# We want every other row starting from the second one \n",
    "# and we want every other column starting from the second one as well\n",
    "\n",
    "matrix_x[1::2, 1::2]"
   ]
  },
  {
   "cell_type": "markdown",
   "metadata": {},
   "source": [
    "You can also add values to these numbers and reasign them to a new variable if you'd like."
   ]
  },
  {
   "cell_type": "code",
   "execution_count": 207,
   "metadata": {},
   "outputs": [
    {
     "data": {
      "text/plain": [
       "array([[13, 15],\n",
       "       [21,  6]])"
      ]
     },
     "execution_count": 207,
     "metadata": {},
     "output_type": "execute_result"
    }
   ],
   "source": [
    "temp_matrix = (matrix_x[1::2, 1::2] + 5).copy()\n",
    "temp_matrix"
   ]
  },
  {
   "cell_type": "markdown",
   "metadata": {},
   "source": [
    "For our last example, let's explore how to get values at a specific point in our matrix.\n",
    "\n",
    "![alt](https://raw.githubusercontent.com/CoderAcademyEdu/intro-python-4-da/master/lesson_2/pictures/matrix_x_3.jpeg?token=AJXSBWZ3D7GF3IHHHQOSRBS6ZY7XO)"
   ]
  },
  {
   "cell_type": "code",
   "execution_count": 115,
   "metadata": {},
   "outputs": [
    {
     "data": {
      "text/plain": [
       "array([[15, 41, 30, 11, 29],\n",
       "       [22,  8, 13, 10, 14],\n",
       "       [31, 19, 45, 16, 23],\n",
       "       [17, 16, 33,  1, 34],\n",
       "       [ 6, 27, 38, 25, 18]])"
      ]
     },
     "execution_count": 115,
     "metadata": {},
     "output_type": "execute_result"
    }
   ],
   "source": [
    "# Let's print matrix x again\n",
    "\n",
    "matrix_x"
   ]
  },
  {
   "cell_type": "code",
   "execution_count": 208,
   "metadata": {},
   "outputs": [
    {
     "data": {
      "text/plain": [
       "array([15, 45, 18])"
      ]
     },
     "execution_count": 208,
     "metadata": {},
     "output_type": "execute_result"
    }
   ],
   "source": [
    "# Matrix X number 7\n",
    "\n",
    "# We want the first, third, and fifth element of the first, third, and fifth column-row combination\n",
    "\n",
    "matrix_x[[0, 2, 4], [0, 2, 4]]"
   ]
  },
  {
   "cell_type": "code",
   "execution_count": 209,
   "metadata": {},
   "outputs": [
    {
     "data": {
      "text/plain": [
       "array([22, 41, 33, 25, 23])"
      ]
     },
     "execution_count": 209,
     "metadata": {},
     "output_type": "execute_result"
    }
   ],
   "source": [
    "# Matrix X number 4\n",
    "\n",
    "# We want the elements at:\n",
    "# second row and first column\n",
    "# first row and second column\n",
    "# fourth row and third column\n",
    "# fifth row and fourth column\n",
    "# third row and fifth column\n",
    "\n",
    "matrix_x[[1, 0, 3, 4, 2], [0, 1, 2, 3, 4]]"
   ]
  },
  {
   "cell_type": "markdown",
   "metadata": {},
   "source": [
    "## Exercise 7"
   ]
  },
  {
   "cell_type": "markdown",
   "metadata": {},
   "source": [
    "1. Create a matrix with 4 rows and 5 columns\n",
    "2. Select the first and last row"
   ]
  },
  {
   "cell_type": "code",
   "execution_count": 264,
   "metadata": {},
   "outputs": [
    {
     "name": "stdout",
     "output_type": "stream",
     "text": [
      "(5, 5)\n",
      "[[0.88052771 0.55719574 0.78505218 0.94905839 0.1374613 ]\n",
      " [0.82046763 0.81316621 0.6504502  0.65133698 0.01255916]\n",
      " [0.54003899 0.713527   0.83630907 0.99915857 0.41751221]\n",
      " [0.21956371 0.65614441 0.56667468 0.50159594 0.0775765 ]\n",
      " [0.60429147 0.60829878 0.89834695 0.25807461 0.13845733]]\n",
      "---\n",
      "[[0.88052771 0.55719574 0.78505218 0.94905839 0.1374613 ]\n",
      " [0.60429147 0.60829878 0.89834695 0.25807461 0.13845733]]\n"
     ]
    }
   ],
   "source": [
    "Exer7 = np.random.rand(5, 5)\n",
    "print(Exer7.shape)\n",
    "print(Exer7)\n",
    "print(\"---\")\n",
    "print(Exer7 [::4,:])\n"
   ]
  },
  {
   "cell_type": "markdown",
   "metadata": {},
   "source": [
    "## Exercise 8"
   ]
  },
  {
   "cell_type": "markdown",
   "metadata": {},
   "source": [
    "1. Create a matrix with 6 rows and 3 columns\n",
    "2. Select the first and last columns"
   ]
  },
  {
   "cell_type": "code",
   "execution_count": 267,
   "metadata": {},
   "outputs": [
    {
     "name": "stdout",
     "output_type": "stream",
     "text": [
      "[[0.57458415 0.72091185 0.83092327]\n",
      " [0.37372272 0.40293226 0.9630222 ]\n",
      " [0.95271823 0.01062754 0.99302502]\n",
      " [0.84497007 0.7440673  0.2034055 ]\n",
      " [0.71514319 0.99892857 0.40067734]\n",
      " [0.2412395  0.77369332 0.0078033 ]]\n",
      "---\n",
      "[[0.57458415 0.83092327]\n",
      " [0.37372272 0.9630222 ]\n",
      " [0.95271823 0.99302502]\n",
      " [0.84497007 0.2034055 ]\n",
      " [0.71514319 0.40067734]\n",
      " [0.2412395  0.0078033 ]]\n"
     ]
    }
   ],
   "source": [
    "exer8 = np.random.rand(6, 3)\n",
    "print(exer8)\n",
    "print(\"---\")\n",
    "print(exer8 [:,::2])"
   ]
  },
  {
   "cell_type": "markdown",
   "metadata": {},
   "source": [
    "## Exercise 9"
   ]
  },
  {
   "cell_type": "markdown",
   "metadata": {},
   "source": [
    "1. Create a matrix with 5 rows and 9 columns\n",
    "2. Select every third column"
   ]
  },
  {
   "cell_type": "code",
   "execution_count": 268,
   "metadata": {},
   "outputs": [
    {
     "name": "stdout",
     "output_type": "stream",
     "text": [
      "[[0.74809335 0.73911158 0.49106901 0.44527319 0.21051773 0.40306298\n",
      "  0.96982041 0.32152448 0.80941423]\n",
      " [0.54944929 0.8059516  0.90584177 0.43359672 0.06363046 0.52159824\n",
      "  0.5655995  0.68869638 0.79421653]\n",
      " [0.55682782 0.78397035 0.49065062 0.87026548 0.89163807 0.23092934\n",
      "  0.25687217 0.34111739 0.27956718]\n",
      " [0.79248549 0.09865177 0.16495462 0.40285636 0.97546959 0.51587729\n",
      "  0.8950633  0.2600202  0.02050704]\n",
      " [0.17269335 0.29895075 0.43596344 0.39418535 0.76963166 0.10878505\n",
      "  0.90239895 0.48558376 0.60484155]]\n",
      "---\n",
      "[[0.74809335 0.49106901 0.21051773 0.96982041 0.80941423]\n",
      " [0.54944929 0.90584177 0.06363046 0.5655995  0.79421653]\n",
      " [0.55682782 0.49065062 0.89163807 0.25687217 0.27956718]\n",
      " [0.79248549 0.16495462 0.97546959 0.8950633  0.02050704]\n",
      " [0.17269335 0.43596344 0.76963166 0.90239895 0.60484155]]\n"
     ]
    }
   ],
   "source": [
    "exer9 = np.random.rand(5, 9)\n",
    "print(exer9)\n",
    "print(\"---\")\n",
    "print(exer9 [:,::2])"
   ]
  },
  {
   "cell_type": "markdown",
   "metadata": {},
   "source": [
    "# 2.2 Generating Data With Numpy"
   ]
  },
  {
   "cell_type": "markdown",
   "metadata": {},
   "source": [
    "We have already seen how straghtforward it is to convert data to numpy arrays of different dimmensions, however, numpy has even more functionalities that allow us to generate data on the fly either as a one-dimensional array or multiple.\n",
    "\n",
    "Here are some of the most importat functions to generate data with numpy.\n",
    "\n",
    "- `np.arange(start, end, step, dtype='something')` will create a one-dimensional array\n",
    "- `np.arange(start, end, step, dtype='something').reshape(4, 5)` will reshape a one-dimensional array into a matrix\n",
    "- `np.zeros(nums, dtype='something')` creates an array full of zeros\n",
    "- `np.ones((rows, columns), dtype='something')` creates an array full of ones\n",
    "- `np.random.random(num)` creates an array of random values from 0 to 1. If passed in a tuple such as (3, 5), it will crate a matrix of random values\n",
    "- `np.linspace(start, end, nums_in_between)` creates an array of linearly-spaced numbers from the start point to the end\n",
    "- `np.random.normal(mean, std, size)` draws random numbers from a normal distribution with the mean, standard deviation, and size of your choosing.\n",
    "- `np.random.randint(start, end, shape)` creates random integers\n",
    "- `np.full(shape, num_you_like)` creates an array or matrix with the same number all accross\n",
    "- `np.empty(\n",
    "\n",
    "You might be wondering, why would I use all of these data if I will always have data for my use case? The simple answer is that no model is perfect, and sometimes, a bit of simulation can save you a lot of time in your work. These data craetors are a great help for that.\n",
    "\n",
    "Let's go over some examples of each."
   ]
  },
  {
   "cell_type": "code",
   "execution_count": 126,
   "metadata": {},
   "outputs": [],
   "source": [
    "import matplotlib.pyplot as plt\n",
    "\n",
    "%matplotlib inline"
   ]
  },
  {
   "cell_type": "code",
   "execution_count": 127,
   "metadata": {},
   "outputs": [
    {
     "data": {
      "text/plain": [
       "array([ 0. ,  0.5,  1. ,  1.5,  2. ,  2.5,  3. ,  3.5,  4. ,  4.5,  5. ,\n",
       "        5.5,  6. ,  6.5,  7. ,  7.5,  8. ,  8.5,  9. ,  9.5, 10. , 10.5,\n",
       "       11. , 11.5, 12. , 12.5, 13. , 13.5, 14. , 14.5, 15. , 15.5, 16. ,\n",
       "       16.5, 17. , 17.5, 18. , 18.5, 19. , 19.5, 20. , 20.5, 21. , 21.5,\n",
       "       22. , 22.5, 23. , 23.5, 24. , 24.5, 25. , 25.5, 26. , 26.5, 27. ,\n",
       "       27.5, 28. , 28.5, 29. , 29.5, 30. , 30.5, 31. , 31.5, 32. , 32.5,\n",
       "       33. , 33.5, 34. , 34.5, 35. , 35.5, 36. , 36.5, 37. , 37.5, 38. ,\n",
       "       38.5, 39. , 39.5, 40. , 40.5, 41. , 41.5, 42. , 42.5, 43. , 43.5,\n",
       "       44. , 44.5, 45. , 45.5, 46. , 46.5, 47. , 47.5, 48. , 48.5, 49. ,\n",
       "       49.5])"
      ]
     },
     "execution_count": 127,
     "metadata": {},
     "output_type": "execute_result"
    }
   ],
   "source": [
    "arr1 = np.arange(0, 50, 0.5, dtype='float')\n",
    "arr1"
   ]
  },
  {
   "cell_type": "code",
   "execution_count": 128,
   "metadata": {},
   "outputs": [
    {
     "data": {
      "image/png": "[encoded data removed]",
      "text/plain": [
       "<Figure size 432x288 with 1 Axes>"
      ]
     },
     "metadata": {
      "needs_background": "light"
     },
     "output_type": "display_data"
    }
   ],
   "source": [
    "plt.plot(arr1, (arr1**2))\n",
    "\n",
    "plt.show()"
   ]
  },
  {
   "cell_type": "code",
   "execution_count": 276,
   "metadata": {},
   "outputs": [
    {
     "name": "stdout",
     "output_type": "stream",
     "text": [
      "[ 0.   0.5  1.   1.5  2.   2.5  3.   3.5  4.   4.5  5.   5.5  6.   6.5\n",
      "  7.   7.5  8.   8.5  9.   9.5 10.  10.5 11.  11.5 12.  12.5 13.  13.5\n",
      " 14.  14.5 15.  15.5 16.  16.5 17.  17.5 18.  18.5 19.  19.5 20.  20.5\n",
      " 21.  21.5 22.  22.5 23.  23.5 24.  24.5 25.  25.5 26.  26.5 27.  27.5\n",
      " 28.  28.5 29.  29.5 30.  30.5 31.  31.5 32.  32.5 33.  33.5 34.  34.5\n",
      " 35.  35.5 36.  36.5 37.  37.5 38.  38.5 39.  39.5 40.  40.5 41.  41.5\n",
      " 42.  42.5 43.  43.5 44.  44.5 45.  45.5 46.  46.5 47.  47.5 48.  48.5\n",
      " 49.  49.5]\n"
     ]
    },
    {
     "data": {
      "text/plain": [
       "array([[ 0. ,  0.5,  1. ,  1.5,  2. ,  2.5,  3. ,  3.5,  4. ,  4.5],\n",
       "       [ 5. ,  5.5,  6. ,  6.5,  7. ,  7.5,  8. ,  8.5,  9. ,  9.5],\n",
       "       [10. , 10.5, 11. , 11.5, 12. , 12.5, 13. , 13.5, 14. , 14.5],\n",
       "       [15. , 15.5, 16. , 16.5, 17. , 17.5, 18. , 18.5, 19. , 19.5],\n",
       "       [20. , 20.5, 21. , 21.5, 22. , 22.5, 23. , 23.5, 24. , 24.5],\n",
       "       [25. , 25.5, 26. , 26.5, 27. , 27.5, 28. , 28.5, 29. , 29.5],\n",
       "       [30. , 30.5, 31. , 31.5, 32. , 32.5, 33. , 33.5, 34. , 34.5],\n",
       "       [35. , 35.5, 36. , 36.5, 37. , 37.5, 38. , 38.5, 39. , 39.5],\n",
       "       [40. , 40.5, 41. , 41.5, 42. , 42.5, 43. , 43.5, 44. , 44.5],\n",
       "       [45. , 45.5, 46. , 46.5, 47. , 47.5, 48. , 48.5, 49. , 49.5]])"
      ]
     },
     "execution_count": 276,
     "metadata": {},
     "output_type": "execute_result"
    }
   ],
   "source": [
    "print(arr1)\n",
    "matrix1 = arr1.reshape(10, 10).copy()\n",
    "matrix1\n"
   ]
  },
  {
   "cell_type": "markdown",
   "metadata": {},
   "source": [
    "You might be wondering why we used the `.copy()` above and the reason is that the data numpy keeps in memory for any given array doesn't change when the pointer changes (i.e. a new variable assignment) unless we create a copy.\n",
    "\n",
    "Let's visualise this with an example."
   ]
  },
  {
   "cell_type": "code",
   "execution_count": 283,
   "metadata": {},
   "outputs": [
    {
     "name": "stdout",
     "output_type": "stream",
     "text": [
      "[0 0 0 0 0 0 0 0 0 0]\n",
      "[[0. 0. 0. 0.]\n",
      " [0. 0. 0. 0.]\n",
      " [0. 0. 0. 0.]\n",
      " [0. 0. 0. 0.]\n",
      " [0. 0. 0. 0.]]\n",
      "[[5. 0. 0. 0.]\n",
      " [0. 0. 0. 0.]\n",
      " [0. 0. 0. 0.]\n",
      " [0. 0. 0. 0.]\n",
      " [0. 0. 0. 0.]]\n"
     ]
    }
   ],
   "source": [
    "zeros_arr = np.zeros(10, dtype='int8')\n",
    "print(zeros_arr)\n",
    "\n",
    "martrix5 = np.zeros(20).reshape(5,4)\n",
    "martrix6 = martrix5.copy()\n",
    "\n",
    "martrix6[0,0] = 5\n",
    "print(martrix5)\n",
    "print(martrix6)"
   ]
  },
  {
   "cell_type": "code",
   "execution_count": 270,
   "metadata": {},
   "outputs": [
    {
     "name": "stdout",
     "output_type": "stream",
     "text": [
      "Here is the original array --> [0 0 0 0 0 0 0 0 0 0]\n",
      "-------------------------------------------------------\n",
      "Here is the new, altered array --> [0 0 0 0 5 0 0 0 0 0]\n",
      "-------------------------------------------------------\n",
      "Here is the original again --> [0 0 0 0 5 0 0 0 0 0]\n"
     ]
    }
   ],
   "source": [
    "print(f\"Here is the original array --> {zeros_arr}\") # here is the original array\n",
    "print('-' * 55)\n",
    "\n",
    "new_zeros = zeros_arr # here is our new copy\n",
    "\n",
    "new_zeros[4] = 5 # let's change the value at index 4\n",
    "\n",
    "print(f\"Here is the new, altered array --> {new_zeros}\") # let's print the modified one\n",
    "\n",
    "print('-' * 55)\n",
    "\n",
    "print(f\"Here is the original again --> {zeros_arr}\") # and let's print the original as well"
   ]
  },
  {
   "cell_type": "code",
   "execution_count": 130,
   "metadata": {},
   "outputs": [
    {
     "data": {
      "text/plain": [
       "array([[1., 1., 1., 1., 1.],\n",
       "       [1., 1., 1., 1., 1.],\n",
       "       [1., 1., 1., 1., 1.],\n",
       "       [1., 1., 1., 1., 1.]], dtype=float32)"
      ]
     },
     "execution_count": 130,
     "metadata": {},
     "output_type": "execute_result"
    }
   ],
   "source": [
    "matrix2 = np.ones((4, 5), dtype='float32')\n",
    "matrix2"
   ]
  },
  {
   "cell_type": "code",
   "execution_count": 131,
   "metadata": {},
   "outputs": [
    {
     "data": {
      "text/plain": [
       "array([[6., 6., 6., 6., 6.],\n",
       "       [6., 6., 6., 6., 6.],\n",
       "       [6., 6., 6., 6., 6.],\n",
       "       [6., 6., 6., 6., 6.]], dtype=float32)"
      ]
     },
     "execution_count": 131,
     "metadata": {},
     "output_type": "execute_result"
    }
   ],
   "source": [
    "matrix2 + 5"
   ]
  },
  {
   "cell_type": "code",
   "execution_count": null,
   "metadata": {},
   "outputs": [],
   "source": [
    "arr2 = np.linspace(-10, 10, 100)\n",
    "arr2"
   ]
  },
  {
   "cell_type": "code",
   "execution_count": null,
   "metadata": {},
   "outputs": [],
   "source": [
    "plt.plot(arr2, np.cos(arr2))\n",
    "plt.show()"
   ]
  },
  {
   "cell_type": "code",
   "execution_count": null,
   "metadata": {},
   "outputs": [],
   "source": [
    "arr3 = np.random.randint(low=0, high=50, size=100, dtype='int8')\n",
    "arr3"
   ]
  },
  {
   "cell_type": "code",
   "execution_count": null,
   "metadata": {},
   "outputs": [],
   "source": [
    "plt.plot(sorted(arr3))\n",
    "plt.show()"
   ]
  },
  {
   "cell_type": "code",
   "execution_count": null,
   "metadata": {
    "scrolled": true
   },
   "outputs": [],
   "source": [
    "arr4 = np.random.normal(loc=12, scale=6, size=200)\n",
    "arr4"
   ]
  },
  {
   "cell_type": "code",
   "execution_count": null,
   "metadata": {},
   "outputs": [],
   "source": [
    "plt.hist(arr4, bins=30, color='green')\n",
    "plt.show()"
   ]
  },
  {
   "cell_type": "code",
   "execution_count": null,
   "metadata": {},
   "outputs": [],
   "source": [
    "arr5 = np.empty((3, 5), dtype='float32')\n",
    "arr5"
   ]
  },
  {
   "cell_type": "code",
   "execution_count": null,
   "metadata": {},
   "outputs": [],
   "source": [
    "arr5.shape"
   ]
  },
  {
   "cell_type": "code",
   "execution_count": null,
   "metadata": {},
   "outputs": [],
   "source": [
    "arr5[0] = (5**2)\n",
    "arr5[1] = (25 / 5)\n",
    "arr5[2] = 17"
   ]
  },
  {
   "cell_type": "code",
   "execution_count": null,
   "metadata": {},
   "outputs": [],
   "source": [
    "arr5"
   ]
  },
  {
   "cell_type": "code",
   "execution_count": null,
   "metadata": {},
   "outputs": [],
   "source": [
    "# Let's create a matrix with a number we like\n",
    "\n",
    "filled_matrix = np.full(shape=(3, 5), fill_value=17, dtype='int8')\n",
    "filled_matrix"
   ]
  },
  {
   "cell_type": "markdown",
   "metadata": {},
   "source": [
    "## Exercise 10"
   ]
  },
  {
   "cell_type": "markdown",
   "metadata": {},
   "source": [
    "Create an empty matrix of dimensions 3 by 4 and add positive numbers to the odd columns and negative numbers to the even ones."
   ]
  },
  {
   "cell_type": "code",
   "execution_count": null,
   "metadata": {},
   "outputs": [],
   "source": []
  },
  {
   "cell_type": "markdown",
   "metadata": {},
   "source": [
    "## Exercise 11"
   ]
  },
  {
   "cell_type": "markdown",
   "metadata": {},
   "source": [
    "- Create a one dimensional array of 80 elements.\n",
    "- All of the elements have to be the same. Use the data type `float32`.\n",
    "- Reshape the array into a matrix of at least 8 rows."
   ]
  },
  {
   "cell_type": "code",
   "execution_count": null,
   "metadata": {},
   "outputs": [],
   "source": []
  },
  {
   "cell_type": "markdown",
   "metadata": {},
   "source": [
    "# 3. Computations with NumPy"
   ]
  },
  {
   "cell_type": "markdown",
   "metadata": {},
   "source": [
    "Let's begin this section with a quick comparison between operations on lists and operations on numpy arrays"
   ]
  },
  {
   "cell_type": "code",
   "execution_count": null,
   "metadata": {},
   "outputs": [],
   "source": [
    "comp = list(range(100000000))"
   ]
  },
  {
   "cell_type": "code",
   "execution_count": null,
   "metadata": {},
   "outputs": [],
   "source": [
    "%%time\n",
    "\n",
    "some_list = []\n",
    "for i in comp:\n",
    "    some_list.append(i + 1)"
   ]
  },
  {
   "cell_type": "code",
   "execution_count": null,
   "metadata": {},
   "outputs": [],
   "source": [
    "np_array = np.arange(100000000)"
   ]
  },
  {
   "cell_type": "code",
   "execution_count": null,
   "metadata": {},
   "outputs": [],
   "source": [
    "assert len(np_array) == len(comp), \"They don't match!\""
   ]
  },
  {
   "cell_type": "code",
   "execution_count": null,
   "metadata": {},
   "outputs": [],
   "source": [
    "%%time\n",
    "\n",
    "new_arr = np_array + 1"
   ]
  },
  {
   "cell_type": "markdown",
   "metadata": {},
   "source": [
    "# 3.1 Operations"
   ]
  },
  {
   "cell_type": "markdown",
   "metadata": {},
   "source": [
    "To be able to perform element-wise operations with lists we need to either write a loop, a list comprehension, or add it manually. But with numpy, you can do element-wise operations without every writing a loop so long as your arrays are always of the same lenght or have a matching structure for matrices and arrays. This last part is out of the scope of this course but it is important to learn about n-dimensional array operations to do more advanced work.\n",
    "\n",
    "Let's begin by adding two arrays."
   ]
  },
  {
   "cell_type": "code",
   "execution_count": 132,
   "metadata": {},
   "outputs": [
    {
     "data": {
      "text/plain": [
       "array([12,  7,  8])"
      ]
     },
     "execution_count": 132,
     "metadata": {},
     "output_type": "execute_result"
    }
   ],
   "source": [
    "array1 = np.array([3, 2, 1])\n",
    "array2 = np.array([9, 5, 7])\n",
    "\n",
    "array1 + array2"
   ]
  },
  {
   "cell_type": "markdown",
   "metadata": {},
   "source": [
    "Notice what happens when we try to add two arrays with different lenghts."
   ]
  },
  {
   "cell_type": "code",
   "execution_count": 133,
   "metadata": {},
   "outputs": [
    {
     "ename": "ValueError",
     "evalue": "operands could not be broadcast together with shapes (4,) (3,) ",
     "output_type": "error",
     "traceback": [
      "\u001b[1;31m---------------------------------------------------------------------------\u001b[0m",
      "\u001b[1;31mValueError\u001b[0m                                Traceback (most recent call last)",
      "\u001b[1;32m<ipython-input-133-aaa42e297927>\u001b[0m in \u001b[0;36m<module>\u001b[1;34m\u001b[0m\n\u001b[0;32m      3\u001b[0m \u001b[0marray2\u001b[0m \u001b[1;33m=\u001b[0m \u001b[0mnp\u001b[0m\u001b[1;33m.\u001b[0m\u001b[0marray\u001b[0m\u001b[1;33m(\u001b[0m\u001b[1;33m[\u001b[0m\u001b[1;36m9\u001b[0m\u001b[1;33m,\u001b[0m \u001b[1;36m5\u001b[0m\u001b[1;33m,\u001b[0m \u001b[1;36m7\u001b[0m\u001b[1;33m]\u001b[0m\u001b[1;33m)\u001b[0m\u001b[1;33m\u001b[0m\u001b[1;33m\u001b[0m\u001b[0m\n\u001b[0;32m      4\u001b[0m \u001b[1;33m\u001b[0m\u001b[0m\n\u001b[1;32m----> 5\u001b[1;33m \u001b[0marray1\u001b[0m \u001b[1;33m+\u001b[0m \u001b[0marray2\u001b[0m\u001b[1;33m\u001b[0m\u001b[1;33m\u001b[0m\u001b[0m\n\u001b[0m",
      "\u001b[1;31mValueError\u001b[0m: operands could not be broadcast together with shapes (4,) (3,) "
     ]
    }
   ],
   "source": [
    "# If the arrays do not have the same lenght, numpy will give us an error\n",
    "array1 = np.array([3, 2, 1, 6])\n",
    "array2 = np.array([9, 5, 7])\n",
    "\n",
    "array1 + array2"
   ]
  },
  {
   "cell_type": "markdown",
   "metadata": {},
   "source": [
    "If the arrays don't have the same length, numpy will give us an error.\n",
    "\n",
    "We can also do element-wise operations on arrays using the rest of the mathematical functions we saw on lesson 1."
   ]
  },
  {
   "cell_type": "code",
   "execution_count": 134,
   "metadata": {},
   "outputs": [
    {
     "name": "stdout",
     "output_type": "stream",
     "text": [
      "[33.67 11.5  13.32]\n",
      "------------------------------\n",
      "[0.40659341 0.46       0.24324324]\n",
      "------------------------------\n",
      "[1.48127499e+05 6.43634300e+01 7.74491290e+01]\n",
      "------------------------------\n",
      "[-5.4 -2.7 -5.6]\n"
     ]
    }
   ],
   "source": [
    "array3 = np.array([3.7, 2.3, 1.8])\n",
    "array4 = np.array([9.1, 5, 7.4])\n",
    "print(array3 * array4) # multiplication\n",
    "print(\"-\" * 30)\n",
    "print(array3 / array4) # division\n",
    "print(\"-\" * 30)\n",
    "print(array3 ** array4) # exponent\n",
    "print(\"-\" * 30)\n",
    "print(array3 - array4) # subtraction"
   ]
  },
  {
   "cell_type": "markdown",
   "metadata": {},
   "source": [
    "You also get the same functionality with a single number, only this time the single number will be applied to all elements in your array. This is also called broadcasting, and it is what we saw in the speed comparison at the beginning of this section."
   ]
  },
  {
   "cell_type": "code",
   "execution_count": null,
   "metadata": {},
   "outputs": [],
   "source": [
    "print((array3 * array4) * 10) # multiplication\n",
    "print(\"-\" * 30)\n",
    "print((array3 / array4) / 20) # division\n",
    "print(\"-\" * 30)\n",
    "print((array3 ** array4) ** 2) # exponent\n",
    "print(\"-\" * 30)\n",
    "print((array3 - array4) - 4) # subtraction\n",
    "print(\"-\" * 30)\n",
    "print(array3 * 3) # multiplication\n",
    "print(\"-\" * 30)\n",
    "print(array3 / 10) # division\n",
    "print(\"-\" * 30)\n",
    "print(array3 ** 3) # exponent\n",
    "print(\"-\" * 30)\n",
    "print(array3 - (-20)) # subtraction"
   ]
  },
  {
   "cell_type": "code",
   "execution_count": 135,
   "metadata": {},
   "outputs": [
    {
     "data": {
      "text/plain": [
       "array([ 7, 14,  8, 12,  7, 10, 14, 14, 13, 14,  9,  9,  9, 18, 15, 10, 14,\n",
       "       10,  6, 15, 14,  8,  6, 12,  6,  6, 19,  8, 17,  9,  7, 13, 18, 19,\n",
       "        6, 10,  8, 15,  9, 19])"
      ]
     },
     "execution_count": 135,
     "metadata": {},
     "output_type": "execute_result"
    }
   ],
   "source": [
    "auto_array_1 = np.random.randint(low=5, high=20, size=40)\n",
    "auto_array_1"
   ]
  },
  {
   "cell_type": "markdown",
   "metadata": {},
   "source": [
    "If we wanted to make this one dimensional array a two-dimensional one, e.g. a matrix, we could do it with the method `.reshape()`, which takes as arguments the dimensions the new matrix should have. Please remember, the first number is always the rows and the second is always the columns.\n",
    "\n",
    "What we have to keep in mind though is that the reshaped version has to match the amount of element in the array. For example, a one dimensional array with 20 elements can only be reshaped into a matrix of:\n",
    "- 2 rows and 10 columns (2, 10)\n",
    "- 10 rows and 2 columns (10, 2)\n",
    "- 4 rows and 5 columns (4, 5)\n",
    "- 5 rows and 4 columns (5, 4)"
   ]
  },
  {
   "cell_type": "code",
   "execution_count": 136,
   "metadata": {},
   "outputs": [
    {
     "name": "stdout",
     "output_type": "stream",
     "text": [
      "New matrix: \n",
      " [[ 7 14  8 12  7 10 14 14]\n",
      " [13 14  9  9  9 18 15 10]\n",
      " [14 10  6 15 14  8  6 12]\n",
      " [ 6  6 19  8 17  9  7 13]\n",
      " [18 19  6 10  8 15  9 19]]\n",
      "Same array: \n",
      " [ 7 14  8 12  7 10 14 14 13 14  9  9  9 18 15 10 14 10  6 15 14  8  6 12\n",
      "  6  6 19  8 17  9  7 13 18 19  6 10  8 15  9 19]\n"
     ]
    }
   ],
   "source": [
    "print(f\"New matrix: \\n {auto_array_1.reshape(5, 8)}\")\n",
    "print(f\"Same array: \\n {auto_array_1}\")"
   ]
  },
  {
   "cell_type": "markdown",
   "metadata": {},
   "source": [
    "The `.reshape()` method does not work inplace so we would have to assign the new matrix to a new variable and chain the method `.copy()` to it if we want this new matrix to be unique."
   ]
  },
  {
   "cell_type": "code",
   "execution_count": 137,
   "metadata": {},
   "outputs": [
    {
     "data": {
      "text/plain": [
       "array([[ 7, 14,  8, 12,  7, 10, 14, 14],\n",
       "       [13, 14,  9,  9,  9, 18, 15, 10],\n",
       "       [14, 10,  6, 15, 14,  8,  6, 12],\n",
       "       [ 6,  6, 19,  8, 17,  9,  7, 13],\n",
       "       [18, 19,  6, 10,  8, 15,  9, 19]])"
      ]
     },
     "execution_count": 137,
     "metadata": {},
     "output_type": "execute_result"
    }
   ],
   "source": [
    "auto_matrix_1 = auto_array_1.reshape(5, 8).copy()\n",
    "auto_matrix_1"
   ]
  },
  {
   "cell_type": "markdown",
   "metadata": {},
   "source": [
    "The opposite to reshape would be `.ravel()`. This method takes in a matrix of any shape and form and returns a 1-dimensional (or flattened) array."
   ]
  },
  {
   "cell_type": "code",
   "execution_count": 138,
   "metadata": {},
   "outputs": [
    {
     "name": "stdout",
     "output_type": "stream",
     "text": [
      "Original array --> [ 7 14  8 12  7 10 14 14 13 14  9  9  9 18 15 10 14 10  6 15 14  8  6 12\n",
      "  6  6 19  8 17  9  7 13 18 19  6 10  8 15  9 19]\n",
      "---------------------------------------------\n",
      "New, unraveled array --> [ 7 14  8 12  7 10 14 14 13 14  9  9  9 18 15 10 14 10  6 15 14  8  6 12\n",
      "  6  6 19  8 17  9  7 13 18 19  6 10  8 15  9 19]\n"
     ]
    }
   ],
   "source": [
    "print(\"Original array --> {}\".format(auto_array_1))\n",
    "print(\"-\" * 45)\n",
    "auto_array_2 = auto_matrix_1.ravel().copy()\n",
    "print(\"New, unraveled array --> {}\".format(auto_array_2))"
   ]
  },
  {
   "cell_type": "markdown",
   "metadata": {},
   "source": [
    "# 3.2 Descriptive Statistics on Arrays"
   ]
  },
  {
   "cell_type": "markdown",
   "metadata": {},
   "source": [
    "Now that we have learned how to create arrays, there are many things we can try to understand about them. For example, we can add all of the numbers, get their range, max and min values, the square root, or how many even/odd numbers are in the array.\n",
    "\n",
    "Descriptive statistics is one of the many branches of the mathematical field of Statistics. It gives us tools to interrogate the data and figure out what has happened and which hypotheses can we come up with as we examine our data.\n",
    "\n",
    "You can also think of descriptive statistics a regular analysis of data where no predictions of fancy modeling takes place. The importance of descriptive statistics in the data analytics/science cycle is monumental. It helps us examine our data and more often than not find dirty messes that we had not previously encountered.\n",
    "\n",
    "Some useful statistics you should always begin with are:\n",
    "\n",
    "- Minimum\n",
    "- 25th percentile\n",
    "- Median\n",
    "- Mean\n",
    "- Mode\n",
    "- 75th percentile\n",
    "- Maximum\n",
    "- Count\n",
    "- Sum\n",
    "- Square Root of the sum of the array\n",
    "- Standard deviation\n",
    "- Variance\n",
    "- the list could be longer..."
   ]
  },
  {
   "cell_type": "code",
   "execution_count": 139,
   "metadata": {},
   "outputs": [
    {
     "data": {
      "text/plain": [
       "array([ 7, 14,  8, 12,  7, 10, 14, 14, 13, 14,  9,  9,  9, 18, 15, 10, 14,\n",
       "       10,  6, 15, 14,  8,  6, 12,  6,  6, 19,  8, 17,  9,  7, 13, 18, 19,\n",
       "        6, 10,  8, 15,  9, 19])"
      ]
     },
     "execution_count": 139,
     "metadata": {},
     "output_type": "execute_result"
    }
   ],
   "source": [
    "auto_array_1"
   ]
  },
  {
   "cell_type": "code",
   "execution_count": 140,
   "metadata": {},
   "outputs": [
    {
     "name": "stdout",
     "output_type": "stream",
     "text": [
      "Minimum Value: 6\n",
      "25th percentile: 8.0\n",
      "Median: 10.0\n",
      "Average: 11.425\n",
      "75th percentile: 14.0\n",
      "Maximum Value: 19\n",
      "Count: 40\n",
      "Total Sum: 457\n",
      "Square root: 21.37755832643195\n",
      "Sandard Deviation: 4.073619398029226\n",
      "Variance: 16.594375\n"
     ]
    }
   ],
   "source": [
    "print(f\"Minimum Value: {np.min(auto_array_1)}\")\n",
    "print(f\"25th percentile: {np.percentile(auto_array_1, 25)}\")\n",
    "print(f\"Median: {np.median(auto_array_1)}\")\n",
    "print(f\"Average: {np.mean(auto_array_1)}\")\n",
    "print(f\"75th percentile: {np.percentile(auto_array_1, 75)}\")\n",
    "print(f\"Maximum Value: {np.max(auto_array_1)}\")\n",
    "print(f\"Count: {auto_array_1.size}\")\n",
    "print(f\"Total Sum: {np.sum(auto_array_1)}\")\n",
    "print(f\"Square root: {np.sqrt(np.sum(auto_array_1))}\")\n",
    "print(f\"Sandard Deviation: {np.std(auto_array_1)}\")\n",
    "print(f\"Variance: {np.var(auto_array_1)}\")"
   ]
  },
  {
   "cell_type": "markdown",
   "metadata": {},
   "source": [
    "# Exercise"
   ]
  },
  {
   "cell_type": "markdown",
   "metadata": {},
   "source": [
    "Build a function that takes in an array and prints at least 5 of the descriptive statistics shown above. Name it `clue_finder`."
   ]
  },
  {
   "cell_type": "code",
   "execution_count": null,
   "metadata": {},
   "outputs": [],
   "source": []
  },
  {
   "cell_type": "markdown",
   "metadata": {},
   "source": [
    "# Exercise"
   ]
  },
  {
   "cell_type": "markdown",
   "metadata": {},
   "source": [
    "Sum every second column of a matrix with dimensions (6, 8), staring from the first column. Create the matrix with random integers."
   ]
  },
  {
   "cell_type": "code",
   "execution_count": null,
   "metadata": {},
   "outputs": [],
   "source": []
  },
  {
   "cell_type": "code",
   "execution_count": null,
   "metadata": {},
   "outputs": [],
   "source": []
  },
  {
   "cell_type": "markdown",
   "metadata": {},
   "source": [
    "# 3.3 Combining Arrays"
   ]
  },
  {
   "cell_type": "markdown",
   "metadata": {},
   "source": [
    "Sometimes we will need to combine different arrays containing valuable information for a particular analysis. NumPy has three particular ways in which it allows us to do this:\n",
    "\n",
    "- `np.vstack()` allows you to stack multiple arrays on top of one another, i.e. row-wise\n",
    "- `np.hstack()` allows you to stack arrays next to each other, i.e. column-wise\n",
    "- `np.concatenate()` gives you both stacking options, vertical and horizontal stacking\n",
    "\n",
    "Let's have a look at all three of these.\n",
    "\n",
    "\n",
    "![stacking](https://raw.githubusercontent.com/CoderAcademyEdu/intro-python-4-da/b91c0c49ee2c5be6415b8506d5d2d07e00e3917b/lesson_2/pictures/stacking.jpeg?token=AJXSBW4ZAJHOZOA7U3SRR3C6YC5MM)"
   ]
  },
  {
   "cell_type": "code",
   "execution_count": 149,
   "metadata": {},
   "outputs": [
    {
     "name": "stdout",
     "output_type": "stream",
     "text": [
      "Here is the row len of x --> 5, y --> 5, and z --> 5\n"
     ]
    }
   ],
   "source": [
    "x = np.arange(0, 20).reshape(5, 4)\n",
    "y = np.arange(50, 70).reshape(5, 4)\n",
    "z = np.arange(70, 90).reshape(5, 4)\n",
    "\n",
    "print(\"Here is the row len of x --> %i, y --> %i, and z --> %i\" % (len(x), len(y), len(z)))"
   ]
  },
  {
   "cell_type": "code",
   "execution_count": 150,
   "metadata": {},
   "outputs": [
    {
     "data": {
      "text/plain": [
       "array([[ 0,  1,  2,  3, 50, 51, 52, 53],\n",
       "       [ 4,  5,  6,  7, 54, 55, 56, 57],\n",
       "       [ 8,  9, 10, 11, 58, 59, 60, 61],\n",
       "       [12, 13, 14, 15, 62, 63, 64, 65],\n",
       "       [16, 17, 18, 19, 66, 67, 68, 69]])"
      ]
     },
     "execution_count": 150,
     "metadata": {},
     "output_type": "execute_result"
    }
   ],
   "source": [
    "# Horizontal Stack\n",
    "h_level1 = np.hstack([x, y])\n",
    "h_level1"
   ]
  },
  {
   "cell_type": "code",
   "execution_count": 151,
   "metadata": {},
   "outputs": [
    {
     "data": {
      "text/plain": [
       "array([[ 0,  1,  2,  3, 50, 51, 52, 53, 72, 73, 74, 75],\n",
       "       [ 4,  5,  6,  7, 54, 55, 56, 57, 76, 77, 78, 79],\n",
       "       [ 8,  9, 10, 11, 58, 59, 60, 61, 80, 81, 82, 83],\n",
       "       [12, 13, 14, 15, 62, 63, 64, 65, 84, 85, 86, 87],\n",
       "       [16, 17, 18, 19, 66, 67, 68, 69, 88, 89, 90, 91]])"
      ]
     },
     "execution_count": 151,
     "metadata": {},
     "output_type": "execute_result"
    }
   ],
   "source": [
    "h_level2 = np.hstack([h_level1, z + 2])\n",
    "h_level2"
   ]
  },
  {
   "cell_type": "code",
   "execution_count": 152,
   "metadata": {},
   "outputs": [
    {
     "data": {
      "text/plain": [
       "array([[ 0,  1,  2,  3],\n",
       "       [ 4,  5,  6,  7],\n",
       "       [ 8,  9, 10, 11],\n",
       "       [12, 13, 14, 15],\n",
       "       [16, 17, 18, 19],\n",
       "       [50, 51, 52, 53],\n",
       "       [54, 55, 56, 57],\n",
       "       [58, 59, 60, 61],\n",
       "       [62, 63, 64, 65],\n",
       "       [66, 67, 68, 69]])"
      ]
     },
     "execution_count": 152,
     "metadata": {},
     "output_type": "execute_result"
    }
   ],
   "source": [
    "v_level1 = np.vstack([x, y])\n",
    "v_level1"
   ]
  },
  {
   "cell_type": "code",
   "execution_count": 153,
   "metadata": {},
   "outputs": [
    {
     "data": {
      "text/plain": [
       "array([[ 0,  1,  2,  3],\n",
       "       [ 4,  5,  6,  7],\n",
       "       [ 8,  9, 10, 11],\n",
       "       [12, 13, 14, 15],\n",
       "       [16, 17, 18, 19],\n",
       "       [50, 51, 52, 53],\n",
       "       [54, 55, 56, 57],\n",
       "       [58, 59, 60, 61],\n",
       "       [62, 63, 64, 65],\n",
       "       [66, 67, 68, 69],\n",
       "       [73, 74, 75, 76],\n",
       "       [77, 78, 79, 80],\n",
       "       [81, 82, 83, 84],\n",
       "       [85, 86, 87, 88],\n",
       "       [89, 90, 91, 92]])"
      ]
     },
     "execution_count": 153,
     "metadata": {},
     "output_type": "execute_result"
    }
   ],
   "source": [
    "v_level2 = np.vstack([v_level1, z + 3])\n",
    "v_level2"
   ]
  },
  {
   "cell_type": "code",
   "execution_count": 154,
   "metadata": {},
   "outputs": [
    {
     "data": {
      "text/plain": [
       "array([[ 0,  1,  2,  3, 50, 51, 52, 53, 70, 71, 72, 73],\n",
       "       [ 4,  5,  6,  7, 54, 55, 56, 57, 74, 75, 76, 77],\n",
       "       [ 8,  9, 10, 11, 58, 59, 60, 61, 78, 79, 80, 81],\n",
       "       [12, 13, 14, 15, 62, 63, 64, 65, 82, 83, 84, 85],\n",
       "       [16, 17, 18, 19, 66, 67, 68, 69, 86, 87, 88, 89]])"
      ]
     },
     "execution_count": 154,
     "metadata": {},
     "output_type": "execute_result"
    }
   ],
   "source": [
    "c_level1 = np.concatenate([x, y, z], axis=1)\n",
    "c_level1"
   ]
  },
  {
   "cell_type": "code",
   "execution_count": 155,
   "metadata": {},
   "outputs": [
    {
     "data": {
      "text/plain": [
       "array([[ 0,  1,  2,  3],\n",
       "       [ 4,  5,  6,  7],\n",
       "       [ 8,  9, 10, 11],\n",
       "       [12, 13, 14, 15],\n",
       "       [16, 17, 18, 19],\n",
       "       [50, 51, 52, 53],\n",
       "       [54, 55, 56, 57],\n",
       "       [58, 59, 60, 61],\n",
       "       [62, 63, 64, 65],\n",
       "       [66, 67, 68, 69],\n",
       "       [70, 71, 72, 73],\n",
       "       [74, 75, 76, 77],\n",
       "       [78, 79, 80, 81],\n",
       "       [82, 83, 84, 85],\n",
       "       [86, 87, 88, 89]])"
      ]
     },
     "execution_count": 155,
     "metadata": {},
     "output_type": "execute_result"
    }
   ],
   "source": [
    "c_level2 = np.concatenate([x, y, z], axis=0)\n",
    "c_level2"
   ]
  },
  {
   "cell_type": "markdown",
   "metadata": {},
   "source": [
    "# 3.4 Masking"
   ]
  },
  {
   "cell_type": "markdown",
   "metadata": {},
   "source": [
    "In the previous lesson, we explored conditional statements with if, elif's, and else constructors and noticed how powerful these functionalities can be when we try to evaluate statements based on logical conditions.\n",
    "\n",
    "One of the most common tasks of a data analyst is to dig deep into the data to figure out interesting relationships and patterns that could help us answer important questions. One way to achieve this is through filtering out data based on a given condition or set of conditions. NumPy allows us to do this quite efficiently and we will how to do this in this section.\n",
    "\n",
    "Say we have an array of temperatures in farenheit format, for a year, and we want to know how many days of the year the temperature was higher than 70 (a nice day sunny day 🌤)."
   ]
  },
  {
   "cell_type": "code",
   "execution_count": 2,
   "metadata": {},
   "outputs": [
    {
     "data": {
      "text/plain": [
       "array([-11,  50,   7, -21, -23,  41,   8,  54,  41, -28,  98,  17,  75,\n",
       "        33,  84,  15,  -4, -22,  97,  31], dtype=int8)"
      ]
     },
     "execution_count": 2,
     "metadata": {},
     "output_type": "execute_result"
    }
   ],
   "source": [
    "import numpy as np\n",
    "year_temp = np.random.randint(low=-30, high=115, size=360, dtype='int8')\n",
    "year_temp[:20]"
   ]
  },
  {
   "cell_type": "markdown",
   "metadata": {},
   "source": [
    "After we have our array of temperatures for the year, we can move on to creating the condition we want."
   ]
  },
  {
   "cell_type": "code",
   "execution_count": 3,
   "metadata": {
    "scrolled": true
   },
   "outputs": [
    {
     "data": {
      "text/plain": [
       "array([False, False, False, False, False, False, False, False, False,\n",
       "       False,  True, False,  True, False,  True, False, False, False,\n",
       "        True, False, False,  True,  True,  True,  True, False,  True,\n",
       "       False, False, False,  True, False, False, False, False, False,\n",
       "       False, False, False,  True, False, False, False, False, False,\n",
       "       False, False, False, False,  True, False,  True,  True, False,\n",
       "       False,  True, False, False,  True,  True, False, False,  True,\n",
       "       False, False, False, False, False, False, False,  True,  True,\n",
       "       False, False, False, False, False, False,  True, False, False,\n",
       "        True, False, False, False, False,  True,  True, False, False,\n",
       "       False, False, False, False, False, False, False, False,  True,\n",
       "       False, False, False, False,  True, False, False, False, False,\n",
       "       False,  True, False,  True, False, False, False, False, False,\n",
       "       False,  True, False, False, False,  True,  True, False,  True,\n",
       "       False, False, False, False,  True, False, False,  True,  True,\n",
       "       False, False,  True, False, False, False, False,  True, False,\n",
       "       False, False, False, False, False, False,  True, False, False,\n",
       "       False, False,  True, False, False,  True, False,  True, False,\n",
       "       False,  True, False, False,  True,  True, False, False, False,\n",
       "       False, False,  True, False,  True, False,  True, False, False,\n",
       "       False, False, False, False, False, False, False, False, False,\n",
       "       False,  True, False,  True, False, False, False, False, False,\n",
       "        True,  True, False, False, False, False, False, False, False,\n",
       "       False,  True, False, False, False,  True, False,  True, False,\n",
       "       False,  True,  True, False, False,  True,  True, False, False,\n",
       "        True, False, False,  True,  True, False, False, False, False,\n",
       "       False, False, False, False,  True,  True, False, False, False,\n",
       "       False,  True,  True,  True, False, False, False, False, False,\n",
       "       False, False, False,  True, False, False, False, False, False,\n",
       "        True, False,  True, False,  True, False,  True, False, False,\n",
       "       False, False,  True, False, False, False, False, False,  True,\n",
       "       False, False, False, False, False, False, False, False, False,\n",
       "       False,  True, False, False,  True, False, False, False, False,\n",
       "       False, False, False, False, False, False, False,  True,  True,\n",
       "       False,  True, False,  True,  True, False, False,  True,  True,\n",
       "       False, False, False, False, False, False,  True,  True, False,\n",
       "        True, False, False, False,  True, False,  True, False,  True,\n",
       "       False,  True, False, False, False, False, False, False, False,\n",
       "       False, False, False,  True, False, False, False, False, False,\n",
       "       False,  True, False, False, False,  True, False, False, False])"
      ]
     },
     "execution_count": 3,
     "metadata": {},
     "output_type": "execute_result"
    }
   ],
   "source": [
    "nice_days_mask = (year_temp > 70)\n",
    "nice_days_mask"
   ]
  },
  {
   "cell_type": "markdown",
   "metadata": {},
   "source": [
    "Notice that we now have an array of booleans where the True's corresponde to the days that where the temperature was greater than 70 and the False's to the days where it was equal to or lower than 70. Now, if we pass our new variable of booleans as an index to our `year_temp` array, we will get only the values we want."
   ]
  },
  {
   "cell_type": "code",
   "execution_count": 4,
   "metadata": {},
   "outputs": [
    {
     "data": {
      "text/plain": [
       "array([ 98,  75,  84,  97,  88,  93,  95,  82, 107,  77, 105,  74,  90,\n",
       "       101,  94,  71, 105,  88,  75,  79,  94,  71, 114, 100, 114, 107,\n",
       "       101, 102, 112,  93,  86, 114,  77, 109, 106, 106,  77, 102, 104,\n",
       "        89, 114,  94, 113,  98,  89, 113, 109,  71,  85, 102,  92,  76,\n",
       "        83, 105,  78, 110, 104,  98,  72, 108, 104,  97, 101, 112,  86,\n",
       "        83,  80,  88,  91, 109,  81, 105,  74,  89,  80,  86,  73,  83,\n",
       "       104, 113,  81,  75,  87, 105, 114,  99,  96,  86,  86, 112,  73,\n",
       "       108], dtype=int8)"
      ]
     },
     "execution_count": 4,
     "metadata": {},
     "output_type": "execute_result"
    }
   ],
   "source": [
    "nice_days = year_temp[nice_days_mask]\n",
    "nice_days"
   ]
  },
  {
   "cell_type": "markdown",
   "metadata": {},
   "source": [
    "Now we can move on to answer some useful questions about our new filtered data. For example, we can examine the max temperature experience during the nice days, or we could check out the average to understand what was the most common temperature during the nice days."
   ]
  },
  {
   "cell_type": "code",
   "execution_count": null,
   "metadata": {},
   "outputs": [],
   "source": [
    "print(\"The Average temperature on nice days was %i F ☀️\" % np.mean(nice_days))"
   ]
  },
  {
   "cell_type": "code",
   "execution_count": null,
   "metadata": {},
   "outputs": [],
   "source": [
    "print(\"The Max temperature on nice days was %i F 😎\" % np.max(nice_days))"
   ]
  },
  {
   "cell_type": "code",
   "execution_count": null,
   "metadata": {},
   "outputs": [],
   "source": [
    "print(\"The Min temperature on nice days was %i F 🌥\" % np.min(nice_days))"
   ]
  },
  {
   "cell_type": "markdown",
   "metadata": {},
   "source": [
    "You do not need to create these computation and assign them to a new variable, instead you can pass them in to the array in question the same way you would index it. Let's look at an example together."
   ]
  },
  {
   "cell_type": "code",
   "execution_count": null,
   "metadata": {},
   "outputs": [],
   "source": [
    "year_temp[year_temp < 80]"
   ]
  },
  {
   "cell_type": "markdown",
   "metadata": {},
   "source": [
    "We can also combine multiple logical evaluations and pass them as a mask to our arrays. For example, imagine we are only interested in the days where the temperature was less than 80 and greater than 50. If so, we could wrap our local comparisons around paretheses and pass the `&` object in between the two for our mask."
   ]
  },
  {
   "cell_type": "code",
   "execution_count": null,
   "metadata": {},
   "outputs": [],
   "source": [
    "year_temp[(year_temp < 80) & (year_temp > 50)]"
   ]
  },
  {
   "cell_type": "markdown",
   "metadata": {},
   "source": [
    "Lastly, we could create a matrix resembling the days and months for the 360 days (data points) we have in our array, and use one of the many numpy aggregation functions to understand what happend in any given months.\n",
    "\n",
    "First let's reshape this array into a matrix with 30 rows for the days and 12 columns for the months."
   ]
  },
  {
   "cell_type": "code",
   "execution_count": null,
   "metadata": {
    "scrolled": true
   },
   "outputs": [],
   "source": [
    "matrix_year = year_temp.reshape(30, 12).copy()\n",
    "matrix_year"
   ]
  },
  {
   "cell_type": "markdown",
   "metadata": {},
   "source": [
    "The next step is to create our mask. We are interested in nice days that are not too hot but also not too cold (e.g. not hotter than 100 degrees but also not colder than 70)."
   ]
  },
  {
   "cell_type": "code",
   "execution_count": null,
   "metadata": {
    "scrolled": true
   },
   "outputs": [],
   "source": [
    "good_days = (matrix_year > 70) & (matrix_year < 100)\n",
    "good_days"
   ]
  },
  {
   "cell_type": "markdown",
   "metadata": {},
   "source": [
    "Lastly, we will use the `np.sum(matrix, axis=0)` function and pass the axis option so tell numpy that we want to operation to passed column-wise and not row-wise. That way we can count how many days per month throughout the year were within are criteria."
   ]
  },
  {
   "cell_type": "code",
   "execution_count": null,
   "metadata": {},
   "outputs": [],
   "source": [
    "np.sum(good_days, axis=0)"
   ]
  },
  {
   "cell_type": "markdown",
   "metadata": {},
   "source": [
    "There are many other cool tricks you can do with with masking, and we will explore those as we progress throghout the course.\n",
    "\n",
    "Congratulations you are more and more resembling a full-fledged data analyst."
   ]
  },
  {
   "cell_type": "markdown",
   "metadata": {},
   "source": [
    "# 4. More on Control Flow"
   ]
  },
  {
   "cell_type": "markdown",
   "metadata": {},
   "source": [
    "In the last lesson we learned the very basics of the three most essential part of programming that allow us to deal with conditions, repetitions, and afficiency/fluency with our code. In this section we will cover the same three topics again with an extra hint of complexity and a variation of for loops unique to Python, list comprehensions.\n",
    "\n",
    "1. Conditional statements\n",
    "2. Functions\n",
    "3. Loops\n",
    "4. List Comprehensions"
   ]
  },
  {
   "cell_type": "markdown",
   "metadata": {},
   "source": [
    "# 4.1 Conditional Statements"
   ]
  },
  {
   "cell_type": "markdown",
   "metadata": {},
   "source": [
    "Conditionals statements evaluate argument and search for the truth for us (very poetic, yes). Unless a statement we pass after the if evaluates to `False`, has a `0`, or is an explicit `False`, everything after the `if` will always try to evaluate to `True`. Every `if` statement initiation in python needs to end with a `:` before proceeding to the next line where the statement will do something.\n",
    "\n",
    "```python\n",
    "if something_true:\n",
    "```\n",
    "\n",
    "The next part is the proceedure we will like to see happening.\n",
    "\n",
    "```python\n",
    "if something_true:\n",
    "    print(\"do something cool\")\n",
    "```"
   ]
  },
  {
   "cell_type": "code",
   "execution_count": null,
   "metadata": {},
   "outputs": [],
   "source": [
    "if 2 + 2 == 4:\n",
    "    print(\"this works because it is True\")"
   ]
  },
  {
   "cell_type": "markdown",
   "metadata": {},
   "source": [
    "The defeult action if our statement end up being `False` is to do nothing. We can provide our statement with a default action of our choosing though by using an `else` clause."
   ]
  },
  {
   "cell_type": "code",
   "execution_count": null,
   "metadata": {},
   "outputs": [],
   "source": [
    "if 2 + 2 == 5:\n",
    "    print(\"this works because it is True\")\n",
    "else:\n",
    "    print(\"this does not work because it is False\")"
   ]
  },
  {
   "cell_type": "markdown",
   "metadata": {},
   "source": [
    "The in-between arguments of our wanted condition and our default action are additional parameters that can help us control the flow of our statements. They are a combination of the `if` and `else` clauses but differ in that they cannot start like the `if`.\n",
    "\n",
    "\n",
    "```python\n",
    "if something_true:\n",
    "    print(\"do something cool\")\n",
    "elif could_be_this:\n",
    "    print(\"one possibility\")\n",
    "elif or_this:\n",
    "    print(\"another possibility\")\n",
    "else:\n",
    "    print(\"false alarm\")\n",
    "```"
   ]
  },
  {
   "cell_type": "markdown",
   "metadata": {},
   "source": [
    "### Live Example 1"
   ]
  },
  {
   "cell_type": "code",
   "execution_count": null,
   "metadata": {},
   "outputs": [],
   "source": []
  },
  {
   "cell_type": "code",
   "execution_count": null,
   "metadata": {},
   "outputs": [],
   "source": []
  },
  {
   "cell_type": "markdown",
   "metadata": {},
   "source": [
    "### Live Example 2"
   ]
  },
  {
   "cell_type": "code",
   "execution_count": null,
   "metadata": {},
   "outputs": [],
   "source": []
  },
  {
   "cell_type": "code",
   "execution_count": null,
   "metadata": {},
   "outputs": [],
   "source": []
  },
  {
   "cell_type": "markdown",
   "metadata": {},
   "source": [
    "### Live Example 3"
   ]
  },
  {
   "cell_type": "code",
   "execution_count": null,
   "metadata": {},
   "outputs": [],
   "source": []
  },
  {
   "cell_type": "code",
   "execution_count": null,
   "metadata": {},
   "outputs": [],
   "source": []
  },
  {
   "cell_type": "markdown",
   "metadata": {},
   "source": [
    "# 4.2 Functions"
   ]
  },
  {
   "cell_type": "markdown",
   "metadata": {},
   "source": [
    "Functions help us avoid repetitions by wrapping our code into a regular Python function like the `print()` but this time of our making.\n",
    "\n",
    "Functions:  \n",
    "- Need to be defined with\n",
    "```python \n",
    "def\n",
    "```\n",
    "- Can have no arguments and still work \n",
    "```python\n",
    "def function():\n",
    "    pass\n",
    "```\n",
    "- Can also have a plethora of arguments and still work\n",
    "```python\n",
    "def function(one, two, three, many, more):\n",
    "    pass\n",
    "```\n",
    "- Need parentheses, most of the times, to work after they have been defined\n",
    "- `pass` means the function will do nothing\n",
    "\n",
    "\n",
    "Let's go over more examples."
   ]
  },
  {
   "cell_type": "code",
   "execution_count": null,
   "metadata": {},
   "outputs": [],
   "source": [
    "# Let's define a function that takes in a number and returns that number to the cube power\n",
    "\n",
    "def cube_power(number):\n",
    "    temp_var = number ** 3\n",
    "    return temp_var"
   ]
  },
  {
   "cell_type": "code",
   "execution_count": null,
   "metadata": {},
   "outputs": [],
   "source": [
    "print(cube_power(5))"
   ]
  },
  {
   "cell_type": "code",
   "execution_count": null,
   "metadata": {},
   "outputs": [],
   "source": [
    "# functions can have default values that only changed when needed\n",
    "\n",
    "def person_age_finder(age, name=\"Person\"):\n",
    "    print(f\"Hi {name}, you are {age} years old!\")"
   ]
  },
  {
   "cell_type": "code",
   "execution_count": null,
   "metadata": {},
   "outputs": [],
   "source": [
    "person_age_finder(28)"
   ]
  },
  {
   "cell_type": "code",
   "execution_count": null,
   "metadata": {},
   "outputs": [],
   "source": [
    "person_age_finder(28, \"Ramon\")"
   ]
  },
  {
   "cell_type": "markdown",
   "metadata": {},
   "source": [
    "### Live Example 1"
   ]
  },
  {
   "cell_type": "code",
   "execution_count": null,
   "metadata": {},
   "outputs": [],
   "source": []
  },
  {
   "cell_type": "code",
   "execution_count": null,
   "metadata": {},
   "outputs": [],
   "source": []
  },
  {
   "cell_type": "markdown",
   "metadata": {},
   "source": [
    "### Live Example 2"
   ]
  },
  {
   "cell_type": "code",
   "execution_count": null,
   "metadata": {},
   "outputs": [],
   "source": []
  },
  {
   "cell_type": "code",
   "execution_count": null,
   "metadata": {},
   "outputs": [],
   "source": []
  },
  {
   "cell_type": "markdown",
   "metadata": {},
   "source": [
    "# 4.2 Loops"
   ]
  },
  {
   "cell_type": "markdown",
   "metadata": {},
   "source": [
    "Loops are the masters of repetition. If we need to do a task multiple times, chances are that loops will help us do that in many different ways.\n",
    "\n",
    "Loops:\n",
    "\n",
    "- begin with a `for` or `while` constructor, although so far we've only focused on `for`\n",
    "- use after the `for` a next argument which is a random temporary `variable` that it will use to iterate over the object we want to iterate over\n",
    "- have an `in` argument use to point the temporary variable to our list of things or objects\n",
    "- the object we iterate over can be a list, a string, a dictionary, a set, a tuple, an iterable, and a few other objects in Python\n",
    "- the construction of the loop end with `:`\n",
    "- and what follows are the instructions we will like to see repeatedly"
   ]
  },
  {
   "cell_type": "code",
   "execution_count": null,
   "metadata": {},
   "outputs": [],
   "source": [
    "list_names = ['candy', 'loren', 'xavier', 'jackson', 'tyrell', 'sam']"
   ]
  },
  {
   "cell_type": "code",
   "execution_count": null,
   "metadata": {},
   "outputs": [],
   "source": [
    "for name in list_names:\n",
    "    print(f\"Hi your name is {name}\")"
   ]
  },
  {
   "cell_type": "code",
   "execution_count": null,
   "metadata": {},
   "outputs": [],
   "source": [
    "age = [25, 35, 32, 21, 19, 26]"
   ]
  },
  {
   "cell_type": "code",
   "execution_count": null,
   "metadata": {},
   "outputs": [],
   "source": [
    "for age, name in zip(age, list_names):\n",
    "    print(f\"Hi your name is {name} and you are {age} years old!\")"
   ]
  },
  {
   "cell_type": "markdown",
   "metadata": {},
   "source": [
    "### Live Example 1"
   ]
  },
  {
   "cell_type": "code",
   "execution_count": null,
   "metadata": {},
   "outputs": [],
   "source": []
  },
  {
   "cell_type": "code",
   "execution_count": null,
   "metadata": {},
   "outputs": [],
   "source": []
  },
  {
   "cell_type": "markdown",
   "metadata": {},
   "source": [
    "### Live Example 2"
   ]
  },
  {
   "cell_type": "code",
   "execution_count": null,
   "metadata": {},
   "outputs": [],
   "source": []
  },
  {
   "cell_type": "code",
   "execution_count": null,
   "metadata": {},
   "outputs": [],
   "source": []
  },
  {
   "cell_type": "markdown",
   "metadata": {},
   "source": [
    "# 4.2 Loops"
   ]
  },
  {
   "cell_type": "markdown",
   "metadata": {},
   "source": [
    "List comprehensions are loops cousins. They can do almost everything loops can do but their final output is always a list. They prove especially useful when we need a fast loop for prototyping and we don't want to go through construncting a loop from scratch.\n",
    "\n",
    "The main difference between list comprehensions and regular loops is that the action happens first. For example, if you want to add the number 1 to a range of integers, we would have `number + 1` at the begining of the list comprehension. If we wanted to make a list with all of the letters of a sentence in lower case, we would apply that `.lower()` function to our temporary variable at the start.\n",
    "\n",
    "The other thing you need to keep in mind is that list comprehensions need to be wrapped around brackets.\n",
    "\n",
    "```python\n",
    "[number + 1 for number in range(10)] # first example\n",
    "[letter.lower() for letter in \"HeLLO LISTS ComPREHENSIONS\"] # second example\n",
    "```"
   ]
  },
  {
   "cell_type": "code",
   "execution_count": null,
   "metadata": {},
   "outputs": [],
   "source": [
    "list_nums = [number * 2 for number in range(15)]\n",
    "list_nums"
   ]
  },
  {
   "cell_type": "code",
   "execution_count": null,
   "metadata": {},
   "outputs": [],
   "source": [
    "list_letters = [a.lower() for a in \"THIS WAS AN UPPER STRING\"]\n",
    "list_letters"
   ]
  },
  {
   "cell_type": "code",
   "execution_count": null,
   "metadata": {},
   "outputs": [],
   "source": [
    "better_list_letters = ''.join([a.lower() for a in \"THIS WAS AN UPPER STRING\"])"
   ]
  },
  {
   "cell_type": "code",
   "execution_count": null,
   "metadata": {},
   "outputs": [],
   "source": [
    "print(type([a.lower() for a in \"THIS IS A STRING\"]))"
   ]
  },
  {
   "cell_type": "markdown",
   "metadata": {},
   "source": [
    "### Live Example 1"
   ]
  },
  {
   "cell_type": "code",
   "execution_count": null,
   "metadata": {},
   "outputs": [],
   "source": []
  },
  {
   "cell_type": "code",
   "execution_count": null,
   "metadata": {},
   "outputs": [],
   "source": []
  },
  {
   "cell_type": "markdown",
   "metadata": {},
   "source": [
    "### Live Example 2"
   ]
  },
  {
   "cell_type": "code",
   "execution_count": null,
   "metadata": {},
   "outputs": [],
   "source": []
  },
  {
   "cell_type": "code",
   "execution_count": null,
   "metadata": {},
   "outputs": [],
   "source": []
  },
  {
   "cell_type": "markdown",
   "metadata": {},
   "source": [
    "# 5. Summary"
   ]
  },
  {
   "cell_type": "markdown",
   "metadata": {},
   "source": [
    "You have learned a great deal today and should be proud of your accomplishments. Let's recap what we have seen thus far.\n",
    "\n",
    "1. Lists in Python can be treated as the arrays and matrices that will hold our data for us. The are extremely powerful and versatile data structures and they can be used in almost every aspect of the data analytics cycle that includes analysis.\n",
    "2. NumPy is a library of code built on top of the programming language C. This particular characteristic allows it to communicate with the hardware of our machines and run our computations very, very fast.\n",
    "3. When possible, use broadcasting instead of loop in order to optimise your code and time.\n",
    "4. Generating random data allows us to test models and functions very fast and numpy can help us very well with this. It has functions such as `np.ones`, `np.random.random`, `np.linspace`, and many more.\n",
    "5. Masking is a type of filtering method that allows us to have a closer look at our data. It is, in a way, an equivalent way of constructing if-else statements.\n",
    "6. List comprehensions are a type of for loop that gives us the ability to generate a list from repeated commands."
   ]
  },
  {
   "cell_type": "markdown",
   "metadata": {},
   "source": [
    "# 6. References"
   ]
  },
  {
   "cell_type": "markdown",
   "metadata": {},
   "source": [
    "Sweigart, Al. _Automate the Boring Stuff with Python: Practical Programming for Total Beginners_. No Starch Press, 2020.\n",
    "\n",
    "VanderPlas, Jake. _A Whirlwind Tour of Python_. O'Reilly, 2016.\n",
    "\n",
    "VanderPlas, Jake. _Python Data Science Handbook_. O'Reilly, 2017."
   ]
  },
  {
   "cell_type": "markdown",
   "metadata": {},
   "source": [
    "# 7. Feedback"
   ]
  },
  {
   "cell_type": "markdown",
   "metadata": {},
   "source": [
    "We would really appreciate it if you could please provide us with your feedback from this session by filling a couple of question.\n",
    "\n",
    "> ## [Survey](https://docs.google.com/forms/d/e/1FAIpQLScqAlXykQIeym3VwzO5KN8gicte7d2NCSc6T4SIWhRLb77bIg/viewform?usp=sf_link)"
   ]
  }
 ],
 "metadata": {
  "kernelspec": {
   "display_name": "Python 3",
   "language": "python",
   "name": "python3"
  },
  "language_info": {
   "codemirror_mode": {
    "name": "ipython",
    "version": 3
   },
   "file_extension": ".py",
   "mimetype": "text/x-python",
   "name": "python",
   "nbconvert_exporter": "python",
   "pygments_lexer": "ipython3",
   "version": "3.7.6"
  },
  "nteract": {
   "version": "0.22.4"
  }
 },
 "nbformat": 4,
 "nbformat_minor": 4
}
